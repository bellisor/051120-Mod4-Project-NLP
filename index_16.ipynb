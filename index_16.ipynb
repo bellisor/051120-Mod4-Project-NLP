{
 "cells": [
  {
   "cell_type": "markdown",
   "metadata": {},
   "source": [
    "# A Monument to All Your Data"
   ]
  },
  {
   "cell_type": "markdown",
   "metadata": {},
   "source": [
    "Business Case: Following the "
   ]
  },
  {
   "cell_type": "code",
   "execution_count": 1,
   "metadata": {},
   "outputs": [],
   "source": [
    "# DataFrame\n",
    "import pandas as pd\n",
    "\n",
    "# Matplot\n",
    "import matplotlib.pyplot as plt\n",
    "%matplotlib inline\n",
    "\n",
    "# Scikit-learn\n",
    "from sklearn.model_selection import train_test_split\n",
    "from sklearn.preprocessing import LabelEncoder\n",
    "from sklearn.metrics import confusion_matrix, classification_report, accuracy_score\n",
    "from sklearn.manifold import TSNE\n",
    "from sklearn.feature_extraction.text import TfidfVectorizer\n",
    "\n",
    "# Keras\n",
    "from keras.preprocessing.text import Tokenizer\n",
    "from keras.preprocessing.sequence import pad_sequences\n",
    "from keras.models import Sequential\n",
    "from keras.layers import Activation, Dense, Dropout, Embedding, Flatten, Conv1D, MaxPooling1D, LSTM\n",
    "from keras import utils\n",
    "from keras.callbacks import ReduceLROnPlateau, EarlyStopping\n",
    "\n",
    "# nltk\n",
    "import nltk\n",
    "from nltk.corpus import stopwords\n",
    "from  nltk.stem import SnowballStemmer\n",
    "\n",
    "# Word2vec\n",
    "import gensim\n",
    "\n",
    "# Utility\n",
    "import re\n",
    "import numpy as np\n",
    "import os\n",
    "from collections import Counter\n",
    "import logging\n",
    "import time\n",
    "import pickle\n",
    "import itertools\n",
    "\n",
    "# Set log\n",
    "logging.basicConfig(format='%(asctime)s : %(levelname)s : %(message)s', level=logging.INFO)\n",
    "\n",
    "# EXPORT\n",
    "KERAS_MODEL = 'model.h5'\n",
    "WORD2VEC_MODEL = 'model.w2v'\n",
    "TOKENIZER_MODEL = 'tokenizer.pkl'\n",
    "ENCODER_MODEL = 'encoder.pkl'"
   ]
  },
  {
   "cell_type": "markdown",
   "metadata": {},
   "source": [
    "\n",
    "\n",
    "\n",
    "\n",
    "\n"
   ]
  },
  {
   "cell_type": "code",
   "execution_count": 31,
   "metadata": {},
   "outputs": [
    {
     "name": "stderr",
     "output_type": "stream",
     "text": [
      "[nltk_data] Downloading package stopwords to /Users/ellis/nltk_data...\n",
      "[nltk_data]   Package stopwords is already up-to-date!\n"
     ]
    },
    {
     "data": {
      "text/plain": [
       "True"
      ]
     },
     "execution_count": 31,
     "metadata": {},
     "output_type": "execute_result"
    }
   ],
   "source": [
    "nltk.download('stopwords')"
   ]
  },
  {
   "cell_type": "code",
   "execution_count": 32,
   "metadata": {},
   "outputs": [],
   "source": [
    "df = pd.read_csv('training.1600000.processed.noemoticon.csv', encoding= 'ISO-8859-1', names = ['target', \n",
    "                                                                                                  'ids', \n",
    "                                                                                                  'date', \n",
    "                                                                                                  'flag', \n",
    "                                                                                                  'user', \n",
    "                                                                                                  'text'])"
   ]
  },
  {
   "cell_type": "code",
   "execution_count": 93,
   "metadata": {},
   "outputs": [
    {
     "data": {
      "text/html": [
       "<div>\n",
       "<style scoped>\n",
       "    .dataframe tbody tr th:only-of-type {\n",
       "        vertical-align: middle;\n",
       "    }\n",
       "\n",
       "    .dataframe tbody tr th {\n",
       "        vertical-align: top;\n",
       "    }\n",
       "\n",
       "    .dataframe thead th {\n",
       "        text-align: right;\n",
       "    }\n",
       "</style>\n",
       "<table border=\"1\" class=\"dataframe\">\n",
       "  <thead>\n",
       "    <tr style=\"text-align: right;\">\n",
       "      <th></th>\n",
       "      <th>target</th>\n",
       "      <th>ids</th>\n",
       "      <th>date</th>\n",
       "      <th>flag</th>\n",
       "      <th>user</th>\n",
       "      <th>text</th>\n",
       "    </tr>\n",
       "  </thead>\n",
       "  <tbody>\n",
       "    <tr>\n",
       "      <td>0</td>\n",
       "      <td>NEGATIVE</td>\n",
       "      <td>1467810369</td>\n",
       "      <td>Mon Apr 06 22:19:45 PDT 2009</td>\n",
       "      <td>NO_QUERY</td>\n",
       "      <td>_TheSpecialOne_</td>\n",
       "      <td>awww bummer shoulda got david carr third day</td>\n",
       "    </tr>\n",
       "    <tr>\n",
       "      <td>1</td>\n",
       "      <td>NEGATIVE</td>\n",
       "      <td>1467810672</td>\n",
       "      <td>Mon Apr 06 22:19:49 PDT 2009</td>\n",
       "      <td>NO_QUERY</td>\n",
       "      <td>scotthamilton</td>\n",
       "      <td>upset update facebook texting might cry result...</td>\n",
       "    </tr>\n",
       "    <tr>\n",
       "      <td>2</td>\n",
       "      <td>NEGATIVE</td>\n",
       "      <td>1467810917</td>\n",
       "      <td>Mon Apr 06 22:19:53 PDT 2009</td>\n",
       "      <td>NO_QUERY</td>\n",
       "      <td>mattycus</td>\n",
       "      <td>dived many times ball managed save 50 rest go ...</td>\n",
       "    </tr>\n",
       "    <tr>\n",
       "      <td>3</td>\n",
       "      <td>NEGATIVE</td>\n",
       "      <td>1467811184</td>\n",
       "      <td>Mon Apr 06 22:19:57 PDT 2009</td>\n",
       "      <td>NO_QUERY</td>\n",
       "      <td>ElleCTF</td>\n",
       "      <td>whole body feels itchy like fire</td>\n",
       "    </tr>\n",
       "    <tr>\n",
       "      <td>4</td>\n",
       "      <td>NEGATIVE</td>\n",
       "      <td>1467811193</td>\n",
       "      <td>Mon Apr 06 22:19:57 PDT 2009</td>\n",
       "      <td>NO_QUERY</td>\n",
       "      <td>Karoli</td>\n",
       "      <td>behaving mad see</td>\n",
       "    </tr>\n",
       "  </tbody>\n",
       "</table>\n",
       "</div>"
      ],
      "text/plain": [
       "     target         ids                          date      flag  \\\n",
       "0  NEGATIVE  1467810369  Mon Apr 06 22:19:45 PDT 2009  NO_QUERY   \n",
       "1  NEGATIVE  1467810672  Mon Apr 06 22:19:49 PDT 2009  NO_QUERY   \n",
       "2  NEGATIVE  1467810917  Mon Apr 06 22:19:53 PDT 2009  NO_QUERY   \n",
       "3  NEGATIVE  1467811184  Mon Apr 06 22:19:57 PDT 2009  NO_QUERY   \n",
       "4  NEGATIVE  1467811193  Mon Apr 06 22:19:57 PDT 2009  NO_QUERY   \n",
       "\n",
       "              user                                               text  \n",
       "0  _TheSpecialOne_       awww bummer shoulda got david carr third day  \n",
       "1    scotthamilton  upset update facebook texting might cry result...  \n",
       "2         mattycus  dived many times ball managed save 50 rest go ...  \n",
       "3          ElleCTF                   whole body feels itchy like fire  \n",
       "4           Karoli                                   behaving mad see  "
      ]
     },
     "execution_count": 93,
     "metadata": {},
     "output_type": "execute_result"
    }
   ],
   "source": [
    "df.head(5)"
   ]
  },
  {
   "cell_type": "code",
   "execution_count": 33,
   "metadata": {},
   "outputs": [
    {
     "name": "stdout",
     "output_type": "stream",
     "text": [
      "<class 'pandas.core.frame.DataFrame'>\n",
      "RangeIndex: 1600000 entries, 0 to 1599999\n",
      "Data columns (total 6 columns):\n",
      "target    1600000 non-null int64\n",
      "ids       1600000 non-null int64\n",
      "date      1600000 non-null object\n",
      "flag      1600000 non-null object\n",
      "user      1600000 non-null object\n",
      "text      1600000 non-null object\n",
      "dtypes: int64(2), object(4)\n",
      "memory usage: 73.2+ MB\n"
     ]
    }
   ],
   "source": [
    "df.info()"
   ]
  },
  {
   "cell_type": "code",
   "execution_count": 34,
   "metadata": {},
   "outputs": [
    {
     "data": {
      "text/plain": [
       "target    0\n",
       "ids       0\n",
       "date      0\n",
       "flag      0\n",
       "user      0\n",
       "text      0\n",
       "dtype: int64"
      ]
     },
     "execution_count": 34,
     "metadata": {},
     "output_type": "execute_result"
    }
   ],
   "source": [
    "df.isnull().sum()"
   ]
  },
  {
   "cell_type": "code",
   "execution_count": 94,
   "metadata": {},
   "outputs": [
    {
     "data": {
      "text/plain": [
       "array(['NEGATIVE', 'POSITIVE'], dtype=object)"
      ]
     },
     "execution_count": 94,
     "metadata": {},
     "output_type": "execute_result"
    }
   ],
   "source": [
    "df['target'].unique()"
   ]
  },
  {
   "cell_type": "code",
   "execution_count": 8,
   "metadata": {},
   "outputs": [],
   "source": [
    "df.drop(index=0, inplace= True)"
   ]
  },
  {
   "cell_type": "code",
   "execution_count": 40,
   "metadata": {},
   "outputs": [],
   "source": [
    "decode_map = {0: 'NEGATIVE',2: 'NEUTRAL' 4: 'POSITIVE'}\n",
    "def decode_sentiment(label):\n",
    "    return decode_map[int(label)]"
   ]
  },
  {
   "cell_type": "code",
   "execution_count": 41,
   "metadata": {},
   "outputs": [
    {
     "name": "stdout",
     "output_type": "stream",
     "text": [
      "CPU times: user 2 µs, sys: 0 ns, total: 2 µs\n",
      "Wall time: 6.2 µs\n"
     ]
    }
   ],
   "source": [
    "%time\n",
    "df.target = df.target.apply(lambda x: decode_sentiment(x))"
   ]
  },
  {
   "cell_type": "code",
   "execution_count": 42,
   "metadata": {},
   "outputs": [
    {
     "data": {
      "text/html": [
       "<div>\n",
       "<style scoped>\n",
       "    .dataframe tbody tr th:only-of-type {\n",
       "        vertical-align: middle;\n",
       "    }\n",
       "\n",
       "    .dataframe tbody tr th {\n",
       "        vertical-align: top;\n",
       "    }\n",
       "\n",
       "    .dataframe thead th {\n",
       "        text-align: right;\n",
       "    }\n",
       "</style>\n",
       "<table border=\"1\" class=\"dataframe\">\n",
       "  <thead>\n",
       "    <tr style=\"text-align: right;\">\n",
       "      <th></th>\n",
       "      <th>target</th>\n",
       "      <th>ids</th>\n",
       "      <th>date</th>\n",
       "      <th>flag</th>\n",
       "      <th>user</th>\n",
       "      <th>text</th>\n",
       "    </tr>\n",
       "  </thead>\n",
       "  <tbody>\n",
       "    <tr>\n",
       "      <td>0</td>\n",
       "      <td>NEGATIVE</td>\n",
       "      <td>1467810369</td>\n",
       "      <td>Mon Apr 06 22:19:45 PDT 2009</td>\n",
       "      <td>NO_QUERY</td>\n",
       "      <td>_TheSpecialOne_</td>\n",
       "      <td>@switchfoot http://twitpic.com/2y1zl - Awww, t...</td>\n",
       "    </tr>\n",
       "    <tr>\n",
       "      <td>1</td>\n",
       "      <td>NEGATIVE</td>\n",
       "      <td>1467810672</td>\n",
       "      <td>Mon Apr 06 22:19:49 PDT 2009</td>\n",
       "      <td>NO_QUERY</td>\n",
       "      <td>scotthamilton</td>\n",
       "      <td>is upset that he can't update his Facebook by ...</td>\n",
       "    </tr>\n",
       "    <tr>\n",
       "      <td>2</td>\n",
       "      <td>NEGATIVE</td>\n",
       "      <td>1467810917</td>\n",
       "      <td>Mon Apr 06 22:19:53 PDT 2009</td>\n",
       "      <td>NO_QUERY</td>\n",
       "      <td>mattycus</td>\n",
       "      <td>@Kenichan I dived many times for the ball. Man...</td>\n",
       "    </tr>\n",
       "    <tr>\n",
       "      <td>3</td>\n",
       "      <td>NEGATIVE</td>\n",
       "      <td>1467811184</td>\n",
       "      <td>Mon Apr 06 22:19:57 PDT 2009</td>\n",
       "      <td>NO_QUERY</td>\n",
       "      <td>ElleCTF</td>\n",
       "      <td>my whole body feels itchy and like its on fire</td>\n",
       "    </tr>\n",
       "    <tr>\n",
       "      <td>4</td>\n",
       "      <td>NEGATIVE</td>\n",
       "      <td>1467811193</td>\n",
       "      <td>Mon Apr 06 22:19:57 PDT 2009</td>\n",
       "      <td>NO_QUERY</td>\n",
       "      <td>Karoli</td>\n",
       "      <td>@nationwideclass no, it's not behaving at all....</td>\n",
       "    </tr>\n",
       "  </tbody>\n",
       "</table>\n",
       "</div>"
      ],
      "text/plain": [
       "     target         ids                          date      flag  \\\n",
       "0  NEGATIVE  1467810369  Mon Apr 06 22:19:45 PDT 2009  NO_QUERY   \n",
       "1  NEGATIVE  1467810672  Mon Apr 06 22:19:49 PDT 2009  NO_QUERY   \n",
       "2  NEGATIVE  1467810917  Mon Apr 06 22:19:53 PDT 2009  NO_QUERY   \n",
       "3  NEGATIVE  1467811184  Mon Apr 06 22:19:57 PDT 2009  NO_QUERY   \n",
       "4  NEGATIVE  1467811193  Mon Apr 06 22:19:57 PDT 2009  NO_QUERY   \n",
       "\n",
       "              user                                               text  \n",
       "0  _TheSpecialOne_  @switchfoot http://twitpic.com/2y1zl - Awww, t...  \n",
       "1    scotthamilton  is upset that he can't update his Facebook by ...  \n",
       "2         mattycus  @Kenichan I dived many times for the ball. Man...  \n",
       "3          ElleCTF    my whole body feels itchy and like its on fire   \n",
       "4           Karoli  @nationwideclass no, it's not behaving at all....  "
      ]
     },
     "execution_count": 42,
     "metadata": {},
     "output_type": "execute_result"
    }
   ],
   "source": [
    "df.head()"
   ]
  },
  {
   "cell_type": "code",
   "execution_count": 95,
   "metadata": {},
   "outputs": [
    {
     "data": {
      "text/plain": [
       "Text(0.5, 1.0, 'Distribution of Sentiment')"
      ]
     },
     "execution_count": 95,
     "metadata": {},
     "output_type": "execute_result"
    },
    {
     "data": {
      "image/png": "[encoded data removed]",
      "text/plain": [
       "<Figure size 1152x576 with 1 Axes>"
      ]
     },
     "metadata": {
      "needs_background": "light"
     },
     "output_type": "display_data"
    }
   ],
   "source": [
    "target_cnt = Counter(df.target)\n",
    "\n",
    "plt.figure(figsize=(16,8))\n",
    "plt.bar(target_cnt.keys(), target_cnt.values())\n",
    "plt.title('Distribution of Sentiment')"
   ]
  },
  {
   "cell_type": "markdown",
   "metadata": {},
   "source": [
    "## Preprocess the dataset"
   ]
  },
  {
   "cell_type": "code",
   "execution_count": 45,
   "metadata": {},
   "outputs": [],
   "source": [
    "stop_words = stopwords.words(\"english\")\n",
    "stemmer = SnowballStemmer(\"english\")"
   ]
  },
  {
   "cell_type": "code",
   "execution_count": 46,
   "metadata": {},
   "outputs": [],
   "source": [
    "def preprocess(text, stem=False):\n",
    "    # Remove link,user and special characters\n",
    "    text = re.sub('@\\S+|https?:\\S+|http?:\\S|[^A-Za-z0-9]+', ' ', str(text).lower()).strip()\n",
    "    tokens = []\n",
    "    for token in text.split():\n",
    "        if token not in stop_words:\n",
    "            if stem:\n",
    "                tokens.append(stemmer.stem(token))\n",
    "            else:\n",
    "                tokens.append(token)\n",
    "    return \" \".join(tokens)"
   ]
  },
  {
   "cell_type": "code",
   "execution_count": 47,
   "metadata": {},
   "outputs": [
    {
     "name": "stdout",
     "output_type": "stream",
     "text": [
      "CPU times: user 35.6 s, sys: 75.1 ms, total: 35.7 s\n",
      "Wall time: 35.7 s\n"
     ]
    }
   ],
   "source": [
    "%%time\n",
    "df.text = df.text.apply(lambda x: preprocess(x))"
   ]
  },
  {
   "cell_type": "markdown",
   "metadata": {},
   "source": [
    "## Train/Test Split"
   ]
  },
  {
   "cell_type": "code",
   "execution_count": 48,
   "metadata": {},
   "outputs": [
    {
     "name": "stdout",
     "output_type": "stream",
     "text": [
      "TRAIN size: 1280000\n",
      "TEST size: 320000\n"
     ]
    }
   ],
   "source": [
    "df_train, df_test = train_test_split(df, test_size= 0.2, random_state=42)\n",
    "print('Train Size:', len(df_train))\n",
    "print('Test Size:', len(df_test))"
   ]
  },
  {
   "cell_type": "markdown",
   "metadata": {},
   "source": [
    "## Tokenize\n"
   ]
  },
  {
   "cell_type": "code",
   "execution_count": null,
   "metadata": {},
   "outputs": [],
   "source": []
  },
  {
   "cell_type": "code",
   "execution_count": 70,
   "metadata": {},
   "outputs": [
    {
     "name": "stdout",
     "output_type": "stream",
     "text": [
      "CPU times: user 2 µs, sys: 0 ns, total: 2 µs\n",
      "Wall time: 6.91 µs\n",
      "Total words 290419\n"
     ]
    }
   ],
   "source": [
    "%time\n",
    "tokenizer = Tokenizer()\n",
    "tokenizer.fit_on_texts(df_train.text)\n",
    "\n",
    "vocab_size = len(tokenizer.word_index) + 1\n",
    "print(\"Total words\", vocab_size)"
   ]
  },
  {
   "cell_type": "code",
   "execution_count": null,
   "metadata": {},
   "outputs": [],
   "source": []
  },
  {
   "cell_type": "code",
   "execution_count": 71,
   "metadata": {
    "scrolled": true
   },
   "outputs": [
    {
     "name": "stdout",
     "output_type": "stream",
     "text": [
      "CPU times: user 18.1 s, sys: 453 ms, total: 18.6 s\n",
      "Wall time: 18.6 s\n"
     ]
    }
   ],
   "source": [
    "%%time\n",
    "x_train = pad_sequences(tokenizer.texts_to_sequences(df_train.text), maxlen=300)\n",
    "x_test = pad_sequences(tokenizer.texts_to_sequences(df_test.text), maxlen=300)"
   ]
  },
  {
   "cell_type": "markdown",
   "metadata": {},
   "source": [
    "### Word2Vec\n",
    "\n",
    "Word2vec is a two-layer neural net that processes text by “vectorizing” words. Its input is a text corpus and its output is a set of vectors: feature vectors that represent words in that corpus. While Word2vec is not a deep neural network, it turns text into a numerical form that deep neural networks can understand."
   ]
  },
  {
   "cell_type": "code",
   "execution_count": 97,
   "metadata": {
    "scrolled": true
   },
   "outputs": [
    {
     "name": "stdout",
     "output_type": "stream",
     "text": [
      "CPU times: user 2.27 s, sys: 174 ms, total: 2.44 s\n",
      "Wall time: 2.44 s\n"
     ]
    }
   ],
   "source": [
    "documents = [_text.split() for _text in df_train.text] "
   ]
  },
  {
   "cell_type": "code",
   "execution_count": null,
   "metadata": {},
   "outputs": [],
   "source": [
    "gensim.models.word2vec.Word2Vec()"
   ]
  },
  {
   "cell_type": "code",
   "execution_count": 50,
   "metadata": {},
   "outputs": [],
   "source": [
    "w2v_model = gensim.models.word2vec.Word2Vec(size=300, \n",
    "                                            window=7, \n",
    "                                            min_count=10, \n",
    "                                            workers=16)"
   ]
  },
  {
   "cell_type": "code",
   "execution_count": 51,
   "metadata": {},
   "outputs": [
    {
     "name": "stderr",
     "output_type": "stream",
     "text": [
      "2020-07-28 15:17:48,496 : INFO : collecting all words and their counts\n",
      "2020-07-28 15:17:48,497 : INFO : PROGRESS: at sentence #0, processed 0 words, keeping 0 word types\n",
      "2020-07-28 15:17:48,516 : INFO : PROGRESS: at sentence #10000, processed 72565 words, keeping 14005 word types\n",
      "2020-07-28 15:17:48,534 : INFO : PROGRESS: at sentence #20000, processed 144393 words, keeping 21587 word types\n",
      "2020-07-28 15:17:48,556 : INFO : PROGRESS: at sentence #30000, processed 215826 words, keeping 27541 word types\n",
      "2020-07-28 15:17:48,578 : INFO : PROGRESS: at sentence #40000, processed 288271 words, keeping 32764 word types\n",
      "2020-07-28 15:17:48,599 : INFO : PROGRESS: at sentence #50000, processed 359772 words, keeping 37587 word types\n",
      "2020-07-28 15:17:48,621 : INFO : PROGRESS: at sentence #60000, processed 431431 words, keeping 42198 word types\n",
      "2020-07-28 15:17:48,646 : INFO : PROGRESS: at sentence #70000, processed 503103 words, keeping 46458 word types\n",
      "2020-07-28 15:17:48,669 : INFO : PROGRESS: at sentence #80000, processed 575709 words, keeping 50476 word types\n",
      "2020-07-28 15:17:48,691 : INFO : PROGRESS: at sentence #90000, processed 647100 words, keeping 54140 word types\n",
      "2020-07-28 15:17:48,715 : INFO : PROGRESS: at sentence #100000, processed 718681 words, keeping 57777 word types\n",
      "2020-07-28 15:17:48,737 : INFO : PROGRESS: at sentence #110000, processed 790696 words, keeping 61207 word types\n",
      "2020-07-28 15:17:48,761 : INFO : PROGRESS: at sentence #120000, processed 863134 words, keeping 64583 word types\n",
      "2020-07-28 15:17:48,784 : INFO : PROGRESS: at sentence #130000, processed 935111 words, keeping 67865 word types\n",
      "2020-07-28 15:17:48,806 : INFO : PROGRESS: at sentence #140000, processed 1006668 words, keeping 70966 word types\n",
      "2020-07-28 15:17:48,829 : INFO : PROGRESS: at sentence #150000, processed 1078512 words, keeping 74119 word types\n",
      "2020-07-28 15:17:48,852 : INFO : PROGRESS: at sentence #160000, processed 1149914 words, keeping 77187 word types\n",
      "2020-07-28 15:17:48,875 : INFO : PROGRESS: at sentence #170000, processed 1222145 words, keeping 80267 word types\n",
      "2020-07-28 15:17:48,900 : INFO : PROGRESS: at sentence #180000, processed 1294708 words, keeping 83393 word types\n",
      "2020-07-28 15:17:48,926 : INFO : PROGRESS: at sentence #190000, processed 1367608 words, keeping 86329 word types\n",
      "2020-07-28 15:17:48,957 : INFO : PROGRESS: at sentence #200000, processed 1439469 words, keeping 89103 word types\n",
      "2020-07-28 15:17:48,984 : INFO : PROGRESS: at sentence #210000, processed 1512099 words, keeping 91840 word types\n",
      "2020-07-28 15:17:49,012 : INFO : PROGRESS: at sentence #220000, processed 1584149 words, keeping 94636 word types\n",
      "2020-07-28 15:17:49,039 : INFO : PROGRESS: at sentence #230000, processed 1656354 words, keeping 97353 word types\n",
      "2020-07-28 15:17:49,063 : INFO : PROGRESS: at sentence #240000, processed 1728573 words, keeping 99975 word types\n",
      "2020-07-28 15:17:49,088 : INFO : PROGRESS: at sentence #250000, processed 1801102 words, keeping 102594 word types\n",
      "2020-07-28 15:17:49,114 : INFO : PROGRESS: at sentence #260000, processed 1873103 words, keeping 105162 word types\n",
      "2020-07-28 15:17:49,140 : INFO : PROGRESS: at sentence #270000, processed 1945245 words, keeping 107626 word types\n",
      "2020-07-28 15:17:49,163 : INFO : PROGRESS: at sentence #280000, processed 2017163 words, keeping 110141 word types\n",
      "2020-07-28 15:17:49,188 : INFO : PROGRESS: at sentence #290000, processed 2089574 words, keeping 112539 word types\n",
      "2020-07-28 15:17:49,211 : INFO : PROGRESS: at sentence #300000, processed 2160996 words, keeping 114893 word types\n",
      "2020-07-28 15:17:49,235 : INFO : PROGRESS: at sentence #310000, processed 2232913 words, keeping 117298 word types\n",
      "2020-07-28 15:17:49,259 : INFO : PROGRESS: at sentence #320000, processed 2305039 words, keeping 119693 word types\n",
      "2020-07-28 15:17:49,283 : INFO : PROGRESS: at sentence #330000, processed 2377119 words, keeping 122131 word types\n",
      "2020-07-28 15:17:49,308 : INFO : PROGRESS: at sentence #340000, processed 2449370 words, keeping 124416 word types\n",
      "2020-07-28 15:17:49,331 : INFO : PROGRESS: at sentence #350000, processed 2521564 words, keeping 126669 word types\n",
      "2020-07-28 15:17:49,356 : INFO : PROGRESS: at sentence #360000, processed 2593681 words, keeping 128912 word types\n",
      "2020-07-28 15:17:49,381 : INFO : PROGRESS: at sentence #370000, processed 2665692 words, keeping 131135 word types\n",
      "2020-07-28 15:17:49,406 : INFO : PROGRESS: at sentence #380000, processed 2737859 words, keeping 133403 word types\n",
      "2020-07-28 15:17:49,430 : INFO : PROGRESS: at sentence #390000, processed 2809848 words, keeping 135551 word types\n",
      "2020-07-28 15:17:49,456 : INFO : PROGRESS: at sentence #400000, processed 2882438 words, keeping 137742 word types\n",
      "2020-07-28 15:17:49,479 : INFO : PROGRESS: at sentence #410000, processed 2954075 words, keeping 139909 word types\n",
      "2020-07-28 15:17:49,505 : INFO : PROGRESS: at sentence #420000, processed 3026247 words, keeping 142144 word types\n",
      "2020-07-28 15:17:49,530 : INFO : PROGRESS: at sentence #430000, processed 3098659 words, keeping 144364 word types\n",
      "2020-07-28 15:17:49,555 : INFO : PROGRESS: at sentence #440000, processed 3170663 words, keeping 146439 word types\n",
      "2020-07-28 15:17:49,579 : INFO : PROGRESS: at sentence #450000, processed 3243344 words, keeping 148526 word types\n",
      "2020-07-28 15:17:49,605 : INFO : PROGRESS: at sentence #460000, processed 3315466 words, keeping 150610 word types\n",
      "2020-07-28 15:17:49,628 : INFO : PROGRESS: at sentence #470000, processed 3388295 words, keeping 152737 word types\n",
      "2020-07-28 15:17:49,652 : INFO : PROGRESS: at sentence #480000, processed 3460120 words, keeping 154757 word types\n",
      "2020-07-28 15:17:49,676 : INFO : PROGRESS: at sentence #490000, processed 3531883 words, keeping 156825 word types\n",
      "2020-07-28 15:17:49,701 : INFO : PROGRESS: at sentence #500000, processed 3604217 words, keeping 158859 word types\n",
      "2020-07-28 15:17:49,725 : INFO : PROGRESS: at sentence #510000, processed 3676427 words, keeping 160852 word types\n",
      "2020-07-28 15:17:49,752 : INFO : PROGRESS: at sentence #520000, processed 3749045 words, keeping 162863 word types\n",
      "2020-07-28 15:17:49,777 : INFO : PROGRESS: at sentence #530000, processed 3821622 words, keeping 164929 word types\n",
      "2020-07-28 15:17:49,803 : INFO : PROGRESS: at sentence #540000, processed 3893627 words, keeping 166840 word types\n",
      "2020-07-28 15:17:49,827 : INFO : PROGRESS: at sentence #550000, processed 3965477 words, keeping 168799 word types\n",
      "2020-07-28 15:17:49,853 : INFO : PROGRESS: at sentence #560000, processed 4038050 words, keeping 170802 word types\n",
      "2020-07-28 15:17:49,878 : INFO : PROGRESS: at sentence #570000, processed 4110296 words, keeping 172760 word types\n",
      "2020-07-28 15:17:49,904 : INFO : PROGRESS: at sentence #580000, processed 4182385 words, keeping 174635 word types\n",
      "2020-07-28 15:17:49,939 : INFO : PROGRESS: at sentence #590000, processed 4254632 words, keeping 176470 word types\n",
      "2020-07-28 15:17:49,966 : INFO : PROGRESS: at sentence #600000, processed 4326859 words, keeping 178350 word types\n",
      "2020-07-28 15:17:49,992 : INFO : PROGRESS: at sentence #610000, processed 4399183 words, keeping 180290 word types\n",
      "2020-07-28 15:17:50,018 : INFO : PROGRESS: at sentence #620000, processed 4471343 words, keeping 182129 word types\n",
      "2020-07-28 15:17:50,045 : INFO : PROGRESS: at sentence #630000, processed 4543286 words, keeping 184005 word types\n",
      "2020-07-28 15:17:50,072 : INFO : PROGRESS: at sentence #640000, processed 4615780 words, keeping 185835 word types\n",
      "2020-07-28 15:17:50,095 : INFO : PROGRESS: at sentence #650000, processed 4688481 words, keeping 187705 word types\n",
      "2020-07-28 15:17:50,122 : INFO : PROGRESS: at sentence #660000, processed 4760481 words, keeping 189439 word types\n",
      "2020-07-28 15:17:50,149 : INFO : PROGRESS: at sentence #670000, processed 4833024 words, keeping 191232 word types\n",
      "2020-07-28 15:17:50,175 : INFO : PROGRESS: at sentence #680000, processed 4904516 words, keeping 193177 word types\n",
      "2020-07-28 15:17:50,201 : INFO : PROGRESS: at sentence #690000, processed 4976968 words, keeping 194960 word types\n",
      "2020-07-28 15:17:50,226 : INFO : PROGRESS: at sentence #700000, processed 5049412 words, keeping 196725 word types\n",
      "2020-07-28 15:17:50,251 : INFO : PROGRESS: at sentence #710000, processed 5121976 words, keeping 198516 word types\n"
     ]
    },
    {
     "name": "stderr",
     "output_type": "stream",
     "text": [
      "2020-07-28 15:17:50,276 : INFO : PROGRESS: at sentence #720000, processed 5193881 words, keeping 200325 word types\n",
      "2020-07-28 15:17:50,302 : INFO : PROGRESS: at sentence #730000, processed 5265467 words, keeping 202133 word types\n",
      "2020-07-28 15:17:50,328 : INFO : PROGRESS: at sentence #740000, processed 5337518 words, keeping 203818 word types\n",
      "2020-07-28 15:17:50,354 : INFO : PROGRESS: at sentence #750000, processed 5409321 words, keeping 205535 word types\n",
      "2020-07-28 15:17:50,381 : INFO : PROGRESS: at sentence #760000, processed 5481512 words, keeping 207282 word types\n",
      "2020-07-28 15:17:50,406 : INFO : PROGRESS: at sentence #770000, processed 5554093 words, keeping 209076 word types\n",
      "2020-07-28 15:17:50,430 : INFO : PROGRESS: at sentence #780000, processed 5625382 words, keeping 210805 word types\n",
      "2020-07-28 15:17:50,453 : INFO : PROGRESS: at sentence #790000, processed 5698066 words, keeping 212618 word types\n",
      "2020-07-28 15:17:50,475 : INFO : PROGRESS: at sentence #800000, processed 5770880 words, keeping 214374 word types\n",
      "2020-07-28 15:17:50,499 : INFO : PROGRESS: at sentence #810000, processed 5843418 words, keeping 216009 word types\n",
      "2020-07-28 15:17:50,524 : INFO : PROGRESS: at sentence #820000, processed 5915628 words, keeping 217804 word types\n",
      "2020-07-28 15:17:50,548 : INFO : PROGRESS: at sentence #830000, processed 5987499 words, keeping 219585 word types\n",
      "2020-07-28 15:17:50,572 : INFO : PROGRESS: at sentence #840000, processed 6058973 words, keeping 221344 word types\n",
      "2020-07-28 15:17:50,596 : INFO : PROGRESS: at sentence #850000, processed 6131125 words, keeping 223002 word types\n",
      "2020-07-28 15:17:50,622 : INFO : PROGRESS: at sentence #860000, processed 6202951 words, keeping 224643 word types\n",
      "2020-07-28 15:17:50,646 : INFO : PROGRESS: at sentence #870000, processed 6275461 words, keeping 226362 word types\n",
      "2020-07-28 15:17:50,669 : INFO : PROGRESS: at sentence #880000, processed 6347661 words, keeping 227986 word types\n",
      "2020-07-28 15:17:50,692 : INFO : PROGRESS: at sentence #890000, processed 6419806 words, keeping 229634 word types\n",
      "2020-07-28 15:17:50,717 : INFO : PROGRESS: at sentence #900000, processed 6491644 words, keeping 231389 word types\n",
      "2020-07-28 15:17:50,741 : INFO : PROGRESS: at sentence #910000, processed 6564022 words, keeping 233050 word types\n",
      "2020-07-28 15:17:50,764 : INFO : PROGRESS: at sentence #920000, processed 6636228 words, keeping 234686 word types\n",
      "2020-07-28 15:17:50,788 : INFO : PROGRESS: at sentence #930000, processed 6708573 words, keeping 236393 word types\n",
      "2020-07-28 15:17:50,811 : INFO : PROGRESS: at sentence #940000, processed 6779956 words, keeping 238052 word types\n",
      "2020-07-28 15:17:50,836 : INFO : PROGRESS: at sentence #950000, processed 6852599 words, keeping 239716 word types\n",
      "2020-07-28 15:17:50,860 : INFO : PROGRESS: at sentence #960000, processed 6924717 words, keeping 241354 word types\n",
      "2020-07-28 15:17:50,884 : INFO : PROGRESS: at sentence #970000, processed 6996992 words, keeping 242980 word types\n",
      "2020-07-28 15:17:50,908 : INFO : PROGRESS: at sentence #980000, processed 7068402 words, keeping 244646 word types\n",
      "2020-07-28 15:17:50,933 : INFO : PROGRESS: at sentence #990000, processed 7140346 words, keeping 246186 word types\n",
      "2020-07-28 15:17:50,958 : INFO : PROGRESS: at sentence #1000000, processed 7211757 words, keeping 247726 word types\n",
      "2020-07-28 15:17:50,979 : INFO : PROGRESS: at sentence #1010000, processed 7283267 words, keeping 249288 word types\n",
      "2020-07-28 15:17:51,004 : INFO : PROGRESS: at sentence #1020000, processed 7355299 words, keeping 250860 word types\n",
      "2020-07-28 15:17:51,025 : INFO : PROGRESS: at sentence #1030000, processed 7426918 words, keeping 252366 word types\n",
      "2020-07-28 15:17:51,048 : INFO : PROGRESS: at sentence #1040000, processed 7498815 words, keeping 253930 word types\n",
      "2020-07-28 15:17:51,071 : INFO : PROGRESS: at sentence #1050000, processed 7570499 words, keeping 255471 word types\n",
      "2020-07-28 15:17:51,096 : INFO : PROGRESS: at sentence #1060000, processed 7643251 words, keeping 257035 word types\n",
      "2020-07-28 15:17:51,121 : INFO : PROGRESS: at sentence #1070000, processed 7714721 words, keeping 258509 word types\n",
      "2020-07-28 15:17:51,141 : INFO : PROGRESS: at sentence #1080000, processed 7787371 words, keeping 260071 word types\n",
      "2020-07-28 15:17:51,162 : INFO : PROGRESS: at sentence #1090000, processed 7859336 words, keeping 261683 word types\n",
      "2020-07-28 15:17:51,181 : INFO : PROGRESS: at sentence #1100000, processed 7932029 words, keeping 263278 word types\n",
      "2020-07-28 15:17:51,199 : INFO : PROGRESS: at sentence #1110000, processed 8004146 words, keeping 264800 word types\n",
      "2020-07-28 15:17:51,217 : INFO : PROGRESS: at sentence #1120000, processed 8075880 words, keeping 266309 word types\n",
      "2020-07-28 15:17:51,234 : INFO : PROGRESS: at sentence #1130000, processed 8148163 words, keeping 267826 word types\n",
      "2020-07-28 15:17:51,251 : INFO : PROGRESS: at sentence #1140000, processed 8220487 words, keeping 269391 word types\n",
      "2020-07-28 15:17:51,269 : INFO : PROGRESS: at sentence #1150000, processed 8292498 words, keeping 270894 word types\n",
      "2020-07-28 15:17:51,286 : INFO : PROGRESS: at sentence #1160000, processed 8363838 words, keeping 272400 word types\n",
      "2020-07-28 15:17:51,304 : INFO : PROGRESS: at sentence #1170000, processed 8435510 words, keeping 273970 word types\n",
      "2020-07-28 15:17:51,322 : INFO : PROGRESS: at sentence #1180000, processed 8507795 words, keeping 275521 word types\n",
      "2020-07-28 15:17:51,340 : INFO : PROGRESS: at sentence #1190000, processed 8579080 words, keeping 277007 word types\n",
      "2020-07-28 15:17:51,357 : INFO : PROGRESS: at sentence #1200000, processed 8650606 words, keeping 278457 word types\n",
      "2020-07-28 15:17:51,376 : INFO : PROGRESS: at sentence #1210000, processed 8721893 words, keeping 279959 word types\n",
      "2020-07-28 15:17:51,393 : INFO : PROGRESS: at sentence #1220000, processed 8793795 words, keeping 281427 word types\n",
      "2020-07-28 15:17:51,410 : INFO : PROGRESS: at sentence #1230000, processed 8865726 words, keeping 282981 word types\n",
      "2020-07-28 15:17:51,429 : INFO : PROGRESS: at sentence #1240000, processed 8938173 words, keeping 284542 word types\n",
      "2020-07-28 15:17:51,446 : INFO : PROGRESS: at sentence #1250000, processed 9010842 words, keeping 286064 word types\n",
      "2020-07-28 15:17:51,465 : INFO : PROGRESS: at sentence #1260000, processed 9083261 words, keeping 287521 word types\n",
      "2020-07-28 15:17:51,482 : INFO : PROGRESS: at sentence #1270000, processed 9155616 words, keeping 288987 word types\n",
      "2020-07-28 15:17:51,501 : INFO : collected 290418 word types from a corpus of 9227204 raw words and 1280000 sentences\n",
      "2020-07-28 15:17:51,502 : INFO : Loading a fresh vocabulary\n",
      "2020-07-28 15:17:51,634 : INFO : effective_min_count=10 retains 30369 unique words (10% of original 290418, drops 260049)\n",
      "2020-07-28 15:17:51,635 : INFO : effective_min_count=10 leaves 8780739 word corpus (95% of original 9227204, drops 446465)\n",
      "2020-07-28 15:17:51,712 : INFO : deleting the raw counts dictionary of 290418 items\n",
      "2020-07-28 15:17:51,718 : INFO : sample=0.001 downsamples 45 most-common words\n",
      "2020-07-28 15:17:51,718 : INFO : downsampling leaves estimated 8222658 word corpus (93.6% of prior 8780739)\n",
      "2020-07-28 15:17:51,792 : INFO : estimated required memory for 30369 words and 300 dimensions: 88070100 bytes\n",
      "2020-07-28 15:17:51,793 : INFO : resetting layer weights\n"
     ]
    }
   ],
   "source": [
    "w2v_model.build_vocab(documents)"
   ]
  },
  {
   "cell_type": "code",
   "execution_count": 106,
   "metadata": {},
   "outputs": [
    {
     "name": "stdout",
     "output_type": "stream",
     "text": [
      "Vocabulary Size 30369\n"
     ]
    }
   ],
   "source": [
    "words = w2v_model.wv.vocab.keys()\n",
    "vocab_size = len(words)\n",
    "print('Vocabulary Size', vocab_size)"
   ]
  },
  {
   "cell_type": "code",
   "execution_count": 53,
   "metadata": {},
   "outputs": [
    {
     "name": "stderr",
     "output_type": "stream",
     "text": [
      "2020-07-28 15:17:56,580 : INFO : training model with 16 workers on 30369 vocabulary and 300 features, using sg=0 hs=0 sample=0.001 negative=5 window=7\n",
      "2020-07-28 15:17:57,602 : INFO : EPOCH 1 - PROGRESS: at 18.11% examples, 1476110 words/s, in_qsize 31, out_qsize 0\n",
      "2020-07-28 15:17:58,613 : INFO : EPOCH 1 - PROGRESS: at 35.86% examples, 1460369 words/s, in_qsize 28, out_qsize 3\n",
      "2020-07-28 15:17:59,619 : INFO : EPOCH 1 - PROGRESS: at 55.75% examples, 1516361 words/s, in_qsize 32, out_qsize 0\n",
      "2020-07-28 15:18:00,629 : INFO : EPOCH 1 - PROGRESS: at 75.35% examples, 1536617 words/s, in_qsize 30, out_qsize 1\n",
      "2020-07-28 15:18:01,637 : INFO : EPOCH 1 - PROGRESS: at 95.77% examples, 1561347 words/s, in_qsize 30, out_qsize 1\n",
      "2020-07-28 15:18:01,774 : INFO : worker thread finished; awaiting finish of 15 more threads\n",
      "2020-07-28 15:18:01,776 : INFO : worker thread finished; awaiting finish of 14 more threads\n",
      "2020-07-28 15:18:01,788 : INFO : worker thread finished; awaiting finish of 13 more threads\n",
      "2020-07-28 15:18:01,802 : INFO : worker thread finished; awaiting finish of 12 more threads\n",
      "2020-07-28 15:18:01,804 : INFO : worker thread finished; awaiting finish of 11 more threads\n",
      "2020-07-28 15:18:01,808 : INFO : worker thread finished; awaiting finish of 10 more threads\n",
      "2020-07-28 15:18:01,809 : INFO : worker thread finished; awaiting finish of 9 more threads\n",
      "2020-07-28 15:18:01,809 : INFO : worker thread finished; awaiting finish of 8 more threads\n",
      "2020-07-28 15:18:01,810 : INFO : worker thread finished; awaiting finish of 7 more threads\n",
      "2020-07-28 15:18:01,811 : INFO : worker thread finished; awaiting finish of 6 more threads\n",
      "2020-07-28 15:18:01,811 : INFO : worker thread finished; awaiting finish of 5 more threads\n",
      "2020-07-28 15:18:01,820 : INFO : worker thread finished; awaiting finish of 4 more threads\n",
      "2020-07-28 15:18:01,828 : INFO : worker thread finished; awaiting finish of 3 more threads\n",
      "2020-07-28 15:18:01,831 : INFO : worker thread finished; awaiting finish of 2 more threads\n",
      "2020-07-28 15:18:01,832 : INFO : worker thread finished; awaiting finish of 1 more threads\n",
      "2020-07-28 15:18:01,833 : INFO : worker thread finished; awaiting finish of 0 more threads\n",
      "2020-07-28 15:18:01,834 : INFO : EPOCH - 1 : training on 9227204 raw words (8222381 effective words) took 5.2s, 1569202 effective words/s\n",
      "2020-07-28 15:18:02,849 : INFO : EPOCH 2 - PROGRESS: at 18.54% examples, 1518742 words/s, in_qsize 31, out_qsize 0\n",
      "2020-07-28 15:18:03,864 : INFO : EPOCH 2 - PROGRESS: at 37.05% examples, 1510186 words/s, in_qsize 31, out_qsize 0\n",
      "2020-07-28 15:18:04,865 : INFO : EPOCH 2 - PROGRESS: at 54.03% examples, 1472667 words/s, in_qsize 31, out_qsize 0\n",
      "2020-07-28 15:18:05,867 : INFO : EPOCH 2 - PROGRESS: at 72.64% examples, 1487123 words/s, in_qsize 30, out_qsize 1\n",
      "2020-07-28 15:18:06,884 : INFO : EPOCH 2 - PROGRESS: at 92.39% examples, 1508581 words/s, in_qsize 30, out_qsize 1\n",
      "2020-07-28 15:18:07,201 : INFO : worker thread finished; awaiting finish of 15 more threads\n",
      "2020-07-28 15:18:07,208 : INFO : worker thread finished; awaiting finish of 14 more threads\n",
      "2020-07-28 15:18:07,211 : INFO : worker thread finished; awaiting finish of 13 more threads\n",
      "2020-07-28 15:18:07,212 : INFO : worker thread finished; awaiting finish of 12 more threads\n",
      "2020-07-28 15:18:07,212 : INFO : worker thread finished; awaiting finish of 11 more threads\n",
      "2020-07-28 15:18:07,213 : INFO : worker thread finished; awaiting finish of 10 more threads\n",
      "2020-07-28 15:18:07,214 : INFO : worker thread finished; awaiting finish of 9 more threads\n",
      "2020-07-28 15:18:07,214 : INFO : worker thread finished; awaiting finish of 8 more threads\n",
      "2020-07-28 15:18:07,214 : INFO : worker thread finished; awaiting finish of 7 more threads\n",
      "2020-07-28 15:18:07,215 : INFO : worker thread finished; awaiting finish of 6 more threads\n",
      "2020-07-28 15:18:07,215 : INFO : worker thread finished; awaiting finish of 5 more threads\n",
      "2020-07-28 15:18:07,216 : INFO : worker thread finished; awaiting finish of 4 more threads\n",
      "2020-07-28 15:18:07,227 : INFO : worker thread finished; awaiting finish of 3 more threads\n",
      "2020-07-28 15:18:07,229 : INFO : worker thread finished; awaiting finish of 2 more threads\n",
      "2020-07-28 15:18:07,230 : INFO : worker thread finished; awaiting finish of 1 more threads\n",
      "2020-07-28 15:18:07,231 : INFO : worker thread finished; awaiting finish of 0 more threads\n",
      "2020-07-28 15:18:07,232 : INFO : EPOCH - 2 : training on 9227204 raw words (8223021 effective words) took 5.4s, 1527039 effective words/s\n",
      "2020-07-28 15:18:08,246 : INFO : EPOCH 3 - PROGRESS: at 19.08% examples, 1563452 words/s, in_qsize 31, out_qsize 0\n",
      "2020-07-28 15:18:09,257 : INFO : EPOCH 3 - PROGRESS: at 37.16% examples, 1517298 words/s, in_qsize 26, out_qsize 6\n",
      "2020-07-28 15:18:10,264 : INFO : EPOCH 3 - PROGRESS: at 55.21% examples, 1504133 words/s, in_qsize 31, out_qsize 0\n",
      "2020-07-28 15:18:11,265 : INFO : EPOCH 3 - PROGRESS: at 74.17% examples, 1517234 words/s, in_qsize 31, out_qsize 0\n",
      "2020-07-28 15:18:12,282 : INFO : EPOCH 3 - PROGRESS: at 94.24% examples, 1538089 words/s, in_qsize 31, out_qsize 0\n",
      "2020-07-28 15:18:12,472 : INFO : worker thread finished; awaiting finish of 15 more threads\n",
      "2020-07-28 15:18:12,485 : INFO : worker thread finished; awaiting finish of 14 more threads\n",
      "2020-07-28 15:18:12,488 : INFO : worker thread finished; awaiting finish of 13 more threads\n",
      "2020-07-28 15:18:12,512 : INFO : worker thread finished; awaiting finish of 12 more threads\n",
      "2020-07-28 15:18:12,516 : INFO : worker thread finished; awaiting finish of 11 more threads\n",
      "2020-07-28 15:18:12,518 : INFO : worker thread finished; awaiting finish of 10 more threads\n",
      "2020-07-28 15:18:12,519 : INFO : worker thread finished; awaiting finish of 9 more threads\n",
      "2020-07-28 15:18:12,520 : INFO : worker thread finished; awaiting finish of 8 more threads\n",
      "2020-07-28 15:18:12,521 : INFO : worker thread finished; awaiting finish of 7 more threads\n",
      "2020-07-28 15:18:12,522 : INFO : worker thread finished; awaiting finish of 6 more threads\n",
      "2020-07-28 15:18:12,524 : INFO : worker thread finished; awaiting finish of 5 more threads\n",
      "2020-07-28 15:18:12,535 : INFO : worker thread finished; awaiting finish of 4 more threads\n",
      "2020-07-28 15:18:12,538 : INFO : worker thread finished; awaiting finish of 3 more threads\n",
      "2020-07-28 15:18:12,540 : INFO : worker thread finished; awaiting finish of 2 more threads\n",
      "2020-07-28 15:18:12,541 : INFO : worker thread finished; awaiting finish of 1 more threads\n",
      "2020-07-28 15:18:12,543 : INFO : worker thread finished; awaiting finish of 0 more threads\n",
      "2020-07-28 15:18:12,544 : INFO : EPOCH - 3 : training on 9227204 raw words (8222974 effective words) took 5.3s, 1551386 effective words/s\n",
      "2020-07-28 15:18:13,572 : INFO : EPOCH 4 - PROGRESS: at 17.46% examples, 1414999 words/s, in_qsize 31, out_qsize 0\n",
      "2020-07-28 15:18:14,581 : INFO : EPOCH 4 - PROGRESS: at 36.08% examples, 1466454 words/s, in_qsize 31, out_qsize 0\n",
      "2020-07-28 15:18:15,587 : INFO : EPOCH 4 - PROGRESS: at 51.43% examples, 1397143 words/s, in_qsize 27, out_qsize 4\n",
      "2020-07-28 15:18:16,592 : INFO : EPOCH 4 - PROGRESS: at 69.83% examples, 1424450 words/s, in_qsize 31, out_qsize 0\n",
      "2020-07-28 15:18:17,594 : INFO : EPOCH 4 - PROGRESS: at 90.00% examples, 1470122 words/s, in_qsize 31, out_qsize 0\n",
      "2020-07-28 15:18:18,014 : INFO : worker thread finished; awaiting finish of 15 more threads\n",
      "2020-07-28 15:18:18,016 : INFO : worker thread finished; awaiting finish of 14 more threads\n",
      "2020-07-28 15:18:18,020 : INFO : worker thread finished; awaiting finish of 13 more threads\n",
      "2020-07-28 15:18:18,033 : INFO : worker thread finished; awaiting finish of 12 more threads\n",
      "2020-07-28 15:18:18,052 : INFO : worker thread finished; awaiting finish of 11 more threads\n",
      "2020-07-28 15:18:18,054 : INFO : worker thread finished; awaiting finish of 10 more threads\n",
      "2020-07-28 15:18:18,057 : INFO : worker thread finished; awaiting finish of 9 more threads\n",
      "2020-07-28 15:18:18,058 : INFO : worker thread finished; awaiting finish of 8 more threads\n",
      "2020-07-28 15:18:18,059 : INFO : worker thread finished; awaiting finish of 7 more threads\n",
      "2020-07-28 15:18:18,059 : INFO : worker thread finished; awaiting finish of 6 more threads\n",
      "2020-07-28 15:18:18,060 : INFO : worker thread finished; awaiting finish of 5 more threads\n"
     ]
    },
    {
     "name": "stderr",
     "output_type": "stream",
     "text": [
      "2020-07-28 15:18:18,076 : INFO : worker thread finished; awaiting finish of 4 more threads\n",
      "2020-07-28 15:18:18,078 : INFO : worker thread finished; awaiting finish of 3 more threads\n",
      "2020-07-28 15:18:18,079 : INFO : worker thread finished; awaiting finish of 2 more threads\n",
      "2020-07-28 15:18:18,082 : INFO : worker thread finished; awaiting finish of 1 more threads\n",
      "2020-07-28 15:18:18,082 : INFO : worker thread finished; awaiting finish of 0 more threads\n",
      "2020-07-28 15:18:18,083 : INFO : EPOCH - 4 : training on 9227204 raw words (8222154 effective words) took 5.5s, 1488376 effective words/s\n",
      "2020-07-28 15:18:19,101 : INFO : EPOCH 5 - PROGRESS: at 18.65% examples, 1526157 words/s, in_qsize 31, out_qsize 0\n",
      "2020-07-28 15:18:20,109 : INFO : EPOCH 5 - PROGRESS: at 37.05% examples, 1514278 words/s, in_qsize 31, out_qsize 0\n",
      "2020-07-28 15:18:21,113 : INFO : EPOCH 5 - PROGRESS: at 54.78% examples, 1494875 words/s, in_qsize 31, out_qsize 0\n",
      "2020-07-28 15:18:22,120 : INFO : EPOCH 5 - PROGRESS: at 74.15% examples, 1517064 words/s, in_qsize 30, out_qsize 1\n",
      "2020-07-28 15:18:23,120 : INFO : EPOCH 5 - PROGRESS: at 93.93% examples, 1537611 words/s, in_qsize 31, out_qsize 0\n",
      "2020-07-28 15:18:23,336 : INFO : worker thread finished; awaiting finish of 15 more threads\n",
      "2020-07-28 15:18:23,345 : INFO : worker thread finished; awaiting finish of 14 more threads\n",
      "2020-07-28 15:18:23,353 : INFO : worker thread finished; awaiting finish of 13 more threads\n",
      "2020-07-28 15:18:23,375 : INFO : worker thread finished; awaiting finish of 12 more threads\n",
      "2020-07-28 15:18:23,384 : INFO : worker thread finished; awaiting finish of 11 more threads\n",
      "2020-07-28 15:18:23,388 : INFO : worker thread finished; awaiting finish of 10 more threads\n",
      "2020-07-28 15:18:23,391 : INFO : worker thread finished; awaiting finish of 9 more threads\n",
      "2020-07-28 15:18:23,392 : INFO : worker thread finished; awaiting finish of 8 more threads\n",
      "2020-07-28 15:18:23,393 : INFO : worker thread finished; awaiting finish of 7 more threads\n",
      "2020-07-28 15:18:23,394 : INFO : worker thread finished; awaiting finish of 6 more threads\n",
      "2020-07-28 15:18:23,395 : INFO : worker thread finished; awaiting finish of 5 more threads\n",
      "2020-07-28 15:18:23,403 : INFO : worker thread finished; awaiting finish of 4 more threads\n",
      "2020-07-28 15:18:23,411 : INFO : worker thread finished; awaiting finish of 3 more threads\n",
      "2020-07-28 15:18:23,414 : INFO : worker thread finished; awaiting finish of 2 more threads\n",
      "2020-07-28 15:18:23,415 : INFO : worker thread finished; awaiting finish of 1 more threads\n",
      "2020-07-28 15:18:23,416 : INFO : worker thread finished; awaiting finish of 0 more threads\n",
      "2020-07-28 15:18:23,416 : INFO : EPOCH - 5 : training on 9227204 raw words (8223059 effective words) took 5.3s, 1545991 effective words/s\n",
      "2020-07-28 15:18:24,451 : INFO : EPOCH 6 - PROGRESS: at 17.68% examples, 1423014 words/s, in_qsize 30, out_qsize 1\n",
      "2020-07-28 15:18:25,464 : INFO : EPOCH 6 - PROGRESS: at 35.65% examples, 1441324 words/s, in_qsize 29, out_qsize 2\n",
      "2020-07-28 15:18:26,480 : INFO : EPOCH 6 - PROGRESS: at 55.86% examples, 1507601 words/s, in_qsize 31, out_qsize 0\n",
      "2020-07-28 15:18:27,504 : INFO : EPOCH 6 - PROGRESS: at 75.46% examples, 1524257 words/s, in_qsize 31, out_qsize 0\n",
      "2020-07-28 15:18:28,509 : INFO : EPOCH 6 - PROGRESS: at 92.83% examples, 1503228 words/s, in_qsize 30, out_qsize 1\n",
      "2020-07-28 15:18:28,791 : INFO : worker thread finished; awaiting finish of 15 more threads\n",
      "2020-07-28 15:18:28,803 : INFO : worker thread finished; awaiting finish of 14 more threads\n",
      "2020-07-28 15:18:28,807 : INFO : worker thread finished; awaiting finish of 13 more threads\n",
      "2020-07-28 15:18:28,809 : INFO : worker thread finished; awaiting finish of 12 more threads\n",
      "2020-07-28 15:18:28,811 : INFO : worker thread finished; awaiting finish of 11 more threads\n",
      "2020-07-28 15:18:28,812 : INFO : worker thread finished; awaiting finish of 10 more threads\n",
      "2020-07-28 15:18:28,813 : INFO : worker thread finished; awaiting finish of 9 more threads\n",
      "2020-07-28 15:18:28,814 : INFO : worker thread finished; awaiting finish of 8 more threads\n",
      "2020-07-28 15:18:28,817 : INFO : worker thread finished; awaiting finish of 7 more threads\n",
      "2020-07-28 15:18:28,819 : INFO : worker thread finished; awaiting finish of 6 more threads\n",
      "2020-07-28 15:18:28,829 : INFO : worker thread finished; awaiting finish of 5 more threads\n",
      "2020-07-28 15:18:28,831 : INFO : worker thread finished; awaiting finish of 4 more threads\n",
      "2020-07-28 15:18:28,832 : INFO : worker thread finished; awaiting finish of 3 more threads\n",
      "2020-07-28 15:18:28,834 : INFO : worker thread finished; awaiting finish of 2 more threads\n",
      "2020-07-28 15:18:28,835 : INFO : worker thread finished; awaiting finish of 1 more threads\n",
      "2020-07-28 15:18:28,837 : INFO : worker thread finished; awaiting finish of 0 more threads\n",
      "2020-07-28 15:18:28,837 : INFO : EPOCH - 6 : training on 9227204 raw words (8222369 effective words) took 5.4s, 1520836 effective words/s\n",
      "2020-07-28 15:18:29,852 : INFO : EPOCH 7 - PROGRESS: at 18.00% examples, 1476562 words/s, in_qsize 32, out_qsize 0\n",
      "2020-07-28 15:18:30,853 : INFO : EPOCH 7 - PROGRESS: at 35.75% examples, 1468168 words/s, in_qsize 30, out_qsize 1\n",
      "2020-07-28 15:18:31,860 : INFO : EPOCH 7 - PROGRESS: at 51.43% examples, 1406246 words/s, in_qsize 30, out_qsize 2\n",
      "2020-07-28 15:18:32,865 : INFO : EPOCH 7 - PROGRESS: at 70.05% examples, 1436124 words/s, in_qsize 30, out_qsize 1\n",
      "2020-07-28 15:18:33,869 : INFO : EPOCH 7 - PROGRESS: at 90.54% examples, 1484093 words/s, in_qsize 32, out_qsize 0\n",
      "2020-07-28 15:18:34,293 : INFO : worker thread finished; awaiting finish of 15 more threads\n",
      "2020-07-28 15:18:34,298 : INFO : worker thread finished; awaiting finish of 14 more threads\n",
      "2020-07-28 15:18:34,303 : INFO : worker thread finished; awaiting finish of 13 more threads\n",
      "2020-07-28 15:18:34,305 : INFO : worker thread finished; awaiting finish of 12 more threads\n",
      "2020-07-28 15:18:34,326 : INFO : worker thread finished; awaiting finish of 11 more threads\n",
      "2020-07-28 15:18:34,330 : INFO : worker thread finished; awaiting finish of 10 more threads\n",
      "2020-07-28 15:18:34,331 : INFO : worker thread finished; awaiting finish of 9 more threads\n",
      "2020-07-28 15:18:34,331 : INFO : worker thread finished; awaiting finish of 8 more threads\n",
      "2020-07-28 15:18:34,332 : INFO : worker thread finished; awaiting finish of 7 more threads\n",
      "2020-07-28 15:18:34,333 : INFO : worker thread finished; awaiting finish of 6 more threads\n",
      "2020-07-28 15:18:34,334 : INFO : worker thread finished; awaiting finish of 5 more threads\n",
      "2020-07-28 15:18:34,335 : INFO : worker thread finished; awaiting finish of 4 more threads\n",
      "2020-07-28 15:18:34,335 : INFO : worker thread finished; awaiting finish of 3 more threads\n",
      "2020-07-28 15:18:34,350 : INFO : worker thread finished; awaiting finish of 2 more threads\n",
      "2020-07-28 15:18:34,351 : INFO : worker thread finished; awaiting finish of 1 more threads\n",
      "2020-07-28 15:18:34,353 : INFO : worker thread finished; awaiting finish of 0 more threads\n",
      "2020-07-28 15:18:34,353 : INFO : EPOCH - 7 : training on 9227204 raw words (8223172 effective words) took 5.5s, 1494437 effective words/s\n",
      "2020-07-28 15:18:35,372 : INFO : EPOCH 8 - PROGRESS: at 17.68% examples, 1442371 words/s, in_qsize 30, out_qsize 1\n",
      "2020-07-28 15:18:36,378 : INFO : EPOCH 8 - PROGRESS: at 36.51% examples, 1492038 words/s, in_qsize 32, out_qsize 0\n",
      "2020-07-28 15:18:37,387 : INFO : EPOCH 8 - PROGRESS: at 56.51% examples, 1539515 words/s, in_qsize 31, out_qsize 0\n",
      "2020-07-28 15:18:38,393 : INFO : EPOCH 8 - PROGRESS: at 75.03% examples, 1532899 words/s, in_qsize 31, out_qsize 0\n",
      "2020-07-28 15:18:39,425 : INFO : EPOCH 8 - PROGRESS: at 94.03% examples, 1528343 words/s, in_qsize 28, out_qsize 3\n",
      "2020-07-28 15:18:39,641 : INFO : worker thread finished; awaiting finish of 15 more threads\n",
      "2020-07-28 15:18:39,646 : INFO : worker thread finished; awaiting finish of 14 more threads\n",
      "2020-07-28 15:18:39,656 : INFO : worker thread finished; awaiting finish of 13 more threads\n",
      "2020-07-28 15:18:39,673 : INFO : worker thread finished; awaiting finish of 12 more threads\n",
      "2020-07-28 15:18:39,687 : INFO : worker thread finished; awaiting finish of 11 more threads\n",
      "2020-07-28 15:18:39,690 : INFO : worker thread finished; awaiting finish of 10 more threads\n"
     ]
    },
    {
     "name": "stderr",
     "output_type": "stream",
     "text": [
      "2020-07-28 15:18:39,692 : INFO : worker thread finished; awaiting finish of 9 more threads\n",
      "2020-07-28 15:18:39,693 : INFO : worker thread finished; awaiting finish of 8 more threads\n",
      "2020-07-28 15:18:39,694 : INFO : worker thread finished; awaiting finish of 7 more threads\n",
      "2020-07-28 15:18:39,695 : INFO : worker thread finished; awaiting finish of 6 more threads\n",
      "2020-07-28 15:18:39,696 : INFO : worker thread finished; awaiting finish of 5 more threads\n",
      "2020-07-28 15:18:39,710 : INFO : worker thread finished; awaiting finish of 4 more threads\n",
      "2020-07-28 15:18:39,713 : INFO : worker thread finished; awaiting finish of 3 more threads\n",
      "2020-07-28 15:18:39,715 : INFO : worker thread finished; awaiting finish of 2 more threads\n",
      "2020-07-28 15:18:39,716 : INFO : worker thread finished; awaiting finish of 1 more threads\n",
      "2020-07-28 15:18:39,717 : INFO : worker thread finished; awaiting finish of 0 more threads\n",
      "2020-07-28 15:18:39,717 : INFO : EPOCH - 8 : training on 9227204 raw words (8222924 effective words) took 5.4s, 1536507 effective words/s\n",
      "2020-07-28 15:18:40,733 : INFO : EPOCH 9 - PROGRESS: at 19.08% examples, 1563542 words/s, in_qsize 31, out_qsize 0\n",
      "2020-07-28 15:18:41,735 : INFO : EPOCH 9 - PROGRESS: at 38.46% examples, 1578395 words/s, in_qsize 31, out_qsize 0\n",
      "2020-07-28 15:18:42,736 : INFO : EPOCH 9 - PROGRESS: at 58.36% examples, 1598136 words/s, in_qsize 31, out_qsize 0\n",
      "2020-07-28 15:18:43,736 : INFO : EPOCH 9 - PROGRESS: at 76.11% examples, 1563777 words/s, in_qsize 31, out_qsize 0\n",
      "2020-07-28 15:18:44,747 : INFO : EPOCH 9 - PROGRESS: at 95.34% examples, 1562784 words/s, in_qsize 24, out_qsize 7\n",
      "2020-07-28 15:18:44,871 : INFO : worker thread finished; awaiting finish of 15 more threads\n",
      "2020-07-28 15:18:44,874 : INFO : worker thread finished; awaiting finish of 14 more threads\n",
      "2020-07-28 15:18:44,875 : INFO : worker thread finished; awaiting finish of 13 more threads\n",
      "2020-07-28 15:18:44,887 : INFO : worker thread finished; awaiting finish of 12 more threads\n",
      "2020-07-28 15:18:44,900 : INFO : worker thread finished; awaiting finish of 11 more threads\n",
      "2020-07-28 15:18:44,904 : INFO : worker thread finished; awaiting finish of 10 more threads\n",
      "2020-07-28 15:18:44,905 : INFO : worker thread finished; awaiting finish of 9 more threads\n",
      "2020-07-28 15:18:44,906 : INFO : worker thread finished; awaiting finish of 8 more threads\n",
      "2020-07-28 15:18:44,906 : INFO : worker thread finished; awaiting finish of 7 more threads\n",
      "2020-07-28 15:18:44,907 : INFO : worker thread finished; awaiting finish of 6 more threads\n",
      "2020-07-28 15:18:44,908 : INFO : worker thread finished; awaiting finish of 5 more threads\n",
      "2020-07-28 15:18:44,913 : INFO : worker thread finished; awaiting finish of 4 more threads\n",
      "2020-07-28 15:18:44,925 : INFO : worker thread finished; awaiting finish of 3 more threads\n",
      "2020-07-28 15:18:44,926 : INFO : worker thread finished; awaiting finish of 2 more threads\n",
      "2020-07-28 15:18:44,928 : INFO : worker thread finished; awaiting finish of 1 more threads\n",
      "2020-07-28 15:18:44,929 : INFO : worker thread finished; awaiting finish of 0 more threads\n",
      "2020-07-28 15:18:44,929 : INFO : EPOCH - 9 : training on 9227204 raw words (8223302 effective words) took 5.2s, 1581790 effective words/s\n",
      "2020-07-28 15:18:45,958 : INFO : EPOCH 10 - PROGRESS: at 15.84% examples, 1280727 words/s, in_qsize 29, out_qsize 3\n",
      "2020-07-28 15:18:46,966 : INFO : EPOCH 10 - PROGRESS: at 34.57% examples, 1404555 words/s, in_qsize 31, out_qsize 0\n",
      "2020-07-28 15:18:47,970 : INFO : EPOCH 10 - PROGRESS: at 52.29% examples, 1421530 words/s, in_qsize 31, out_qsize 0\n",
      "2020-07-28 15:18:48,970 : INFO : EPOCH 10 - PROGRESS: at 72.00% examples, 1471010 words/s, in_qsize 31, out_qsize 0\n",
      "2020-07-28 15:18:49,971 : INFO : EPOCH 10 - PROGRESS: at 90.98% examples, 1488292 words/s, in_qsize 32, out_qsize 0\n",
      "2020-07-28 15:18:50,390 : INFO : worker thread finished; awaiting finish of 15 more threads\n",
      "2020-07-28 15:18:50,404 : INFO : worker thread finished; awaiting finish of 14 more threads\n",
      "2020-07-28 15:18:50,407 : INFO : worker thread finished; awaiting finish of 13 more threads\n",
      "2020-07-28 15:18:50,410 : INFO : worker thread finished; awaiting finish of 12 more threads\n",
      "2020-07-28 15:18:50,413 : INFO : worker thread finished; awaiting finish of 11 more threads\n",
      "2020-07-28 15:18:50,415 : INFO : worker thread finished; awaiting finish of 10 more threads\n",
      "2020-07-28 15:18:50,415 : INFO : worker thread finished; awaiting finish of 9 more threads\n",
      "2020-07-28 15:18:50,416 : INFO : worker thread finished; awaiting finish of 8 more threads\n",
      "2020-07-28 15:18:50,418 : INFO : worker thread finished; awaiting finish of 7 more threads\n",
      "2020-07-28 15:18:50,419 : INFO : worker thread finished; awaiting finish of 6 more threads\n",
      "2020-07-28 15:18:50,419 : INFO : worker thread finished; awaiting finish of 5 more threads\n",
      "2020-07-28 15:18:50,431 : INFO : worker thread finished; awaiting finish of 4 more threads\n",
      "2020-07-28 15:18:50,433 : INFO : worker thread finished; awaiting finish of 3 more threads\n",
      "2020-07-28 15:18:50,435 : INFO : worker thread finished; awaiting finish of 2 more threads\n",
      "2020-07-28 15:18:50,437 : INFO : worker thread finished; awaiting finish of 1 more threads\n",
      "2020-07-28 15:18:50,438 : INFO : worker thread finished; awaiting finish of 0 more threads\n",
      "2020-07-28 15:18:50,439 : INFO : EPOCH - 10 : training on 9227204 raw words (8223333 effective words) took 5.5s, 1496183 effective words/s\n",
      "2020-07-28 15:18:51,465 : INFO : EPOCH 11 - PROGRESS: at 17.03% examples, 1380526 words/s, in_qsize 32, out_qsize 0\n",
      "2020-07-28 15:18:52,468 : INFO : EPOCH 11 - PROGRESS: at 35.10% examples, 1431668 words/s, in_qsize 32, out_qsize 0\n",
      "2020-07-28 15:18:53,499 : INFO : EPOCH 11 - PROGRESS: at 54.67% examples, 1476274 words/s, in_qsize 31, out_qsize 0\n",
      "2020-07-28 15:18:54,510 : INFO : EPOCH 11 - PROGRESS: at 72.21% examples, 1464052 words/s, in_qsize 31, out_qsize 0\n",
      "2020-07-28 15:18:55,516 : INFO : EPOCH 11 - PROGRESS: at 89.45% examples, 1452922 words/s, in_qsize 31, out_qsize 0\n",
      "2020-07-28 15:18:56,059 : INFO : worker thread finished; awaiting finish of 15 more threads\n",
      "2020-07-28 15:18:56,069 : INFO : worker thread finished; awaiting finish of 14 more threads\n",
      "2020-07-28 15:18:56,075 : INFO : worker thread finished; awaiting finish of 13 more threads\n",
      "2020-07-28 15:18:56,083 : INFO : worker thread finished; awaiting finish of 12 more threads\n",
      "2020-07-28 15:18:56,093 : INFO : worker thread finished; awaiting finish of 11 more threads\n",
      "2020-07-28 15:18:56,097 : INFO : worker thread finished; awaiting finish of 10 more threads\n",
      "2020-07-28 15:18:56,099 : INFO : worker thread finished; awaiting finish of 9 more threads\n",
      "2020-07-28 15:18:56,101 : INFO : worker thread finished; awaiting finish of 8 more threads\n",
      "2020-07-28 15:18:56,103 : INFO : worker thread finished; awaiting finish of 7 more threads\n",
      "2020-07-28 15:18:56,105 : INFO : worker thread finished; awaiting finish of 6 more threads\n",
      "2020-07-28 15:18:56,107 : INFO : worker thread finished; awaiting finish of 5 more threads\n",
      "2020-07-28 15:18:56,113 : INFO : worker thread finished; awaiting finish of 4 more threads\n",
      "2020-07-28 15:18:56,114 : INFO : worker thread finished; awaiting finish of 3 more threads\n",
      "2020-07-28 15:18:56,115 : INFO : worker thread finished; awaiting finish of 2 more threads\n",
      "2020-07-28 15:18:56,123 : INFO : worker thread finished; awaiting finish of 1 more threads\n",
      "2020-07-28 15:18:56,124 : INFO : worker thread finished; awaiting finish of 0 more threads\n",
      "2020-07-28 15:18:56,125 : INFO : EPOCH - 11 : training on 9227204 raw words (8222076 effective words) took 5.7s, 1449338 effective words/s\n",
      "2020-07-28 15:18:57,188 : INFO : EPOCH 12 - PROGRESS: at 15.84% examples, 1239036 words/s, in_qsize 26, out_qsize 6\n",
      "2020-07-28 15:18:58,200 : INFO : EPOCH 12 - PROGRESS: at 30.46% examples, 1214267 words/s, in_qsize 31, out_qsize 0\n",
      "2020-07-28 15:18:59,214 : INFO : EPOCH 12 - PROGRESS: at 47.53% examples, 1271559 words/s, in_qsize 31, out_qsize 0\n",
      "2020-07-28 15:19:00,215 : INFO : EPOCH 12 - PROGRESS: at 64.08% examples, 1293665 words/s, in_qsize 29, out_qsize 2\n",
      "2020-07-28 15:19:01,216 : INFO : EPOCH 12 - PROGRESS: at 83.50% examples, 1352761 words/s, in_qsize 30, out_qsize 1\n",
      "2020-07-28 15:19:01,923 : INFO : worker thread finished; awaiting finish of 15 more threads\n"
     ]
    },
    {
     "name": "stderr",
     "output_type": "stream",
     "text": [
      "2020-07-28 15:19:01,949 : INFO : worker thread finished; awaiting finish of 14 more threads\n",
      "2020-07-28 15:19:01,961 : INFO : worker thread finished; awaiting finish of 13 more threads\n",
      "2020-07-28 15:19:01,965 : INFO : worker thread finished; awaiting finish of 12 more threads\n",
      "2020-07-28 15:19:01,966 : INFO : worker thread finished; awaiting finish of 11 more threads\n",
      "2020-07-28 15:19:01,967 : INFO : worker thread finished; awaiting finish of 10 more threads\n",
      "2020-07-28 15:19:01,968 : INFO : worker thread finished; awaiting finish of 9 more threads\n",
      "2020-07-28 15:19:01,969 : INFO : worker thread finished; awaiting finish of 8 more threads\n",
      "2020-07-28 15:19:01,970 : INFO : worker thread finished; awaiting finish of 7 more threads\n",
      "2020-07-28 15:19:01,970 : INFO : worker thread finished; awaiting finish of 6 more threads\n",
      "2020-07-28 15:19:01,971 : INFO : worker thread finished; awaiting finish of 5 more threads\n",
      "2020-07-28 15:19:01,978 : INFO : worker thread finished; awaiting finish of 4 more threads\n",
      "2020-07-28 15:19:01,985 : INFO : worker thread finished; awaiting finish of 3 more threads\n",
      "2020-07-28 15:19:01,988 : INFO : worker thread finished; awaiting finish of 2 more threads\n",
      "2020-07-28 15:19:01,988 : INFO : worker thread finished; awaiting finish of 1 more threads\n",
      "2020-07-28 15:19:01,989 : INFO : worker thread finished; awaiting finish of 0 more threads\n",
      "2020-07-28 15:19:01,990 : INFO : EPOCH - 12 : training on 9227204 raw words (8222314 effective words) took 5.9s, 1405199 effective words/s\n",
      "2020-07-28 15:19:03,011 : INFO : EPOCH 13 - PROGRESS: at 15.52% examples, 1264328 words/s, in_qsize 28, out_qsize 3\n",
      "2020-07-28 15:19:04,021 : INFO : EPOCH 13 - PROGRESS: at 30.35% examples, 1236779 words/s, in_qsize 31, out_qsize 0\n",
      "2020-07-28 15:19:05,025 : INFO : EPOCH 13 - PROGRESS: at 47.54% examples, 1294223 words/s, in_qsize 32, out_qsize 0\n",
      "2020-07-28 15:19:06,058 : INFO : EPOCH 13 - PROGRESS: at 61.71% examples, 1252753 words/s, in_qsize 31, out_qsize 0\n",
      "2020-07-28 15:19:07,078 : INFO : EPOCH 13 - PROGRESS: at 77.09% examples, 1249869 words/s, in_qsize 31, out_qsize 0\n",
      "2020-07-28 15:19:08,081 : INFO : EPOCH 13 - PROGRESS: at 94.03% examples, 1272316 words/s, in_qsize 31, out_qsize 0\n",
      "2020-07-28 15:19:08,291 : INFO : worker thread finished; awaiting finish of 15 more threads\n",
      "2020-07-28 15:19:08,298 : INFO : worker thread finished; awaiting finish of 14 more threads\n",
      "2020-07-28 15:19:08,328 : INFO : worker thread finished; awaiting finish of 13 more threads\n",
      "2020-07-28 15:19:08,330 : INFO : worker thread finished; awaiting finish of 12 more threads\n",
      "2020-07-28 15:19:08,338 : INFO : worker thread finished; awaiting finish of 11 more threads\n",
      "2020-07-28 15:19:08,341 : INFO : worker thread finished; awaiting finish of 10 more threads\n",
      "2020-07-28 15:19:08,343 : INFO : worker thread finished; awaiting finish of 9 more threads\n",
      "2020-07-28 15:19:08,344 : INFO : worker thread finished; awaiting finish of 8 more threads\n",
      "2020-07-28 15:19:08,345 : INFO : worker thread finished; awaiting finish of 7 more threads\n",
      "2020-07-28 15:19:08,346 : INFO : worker thread finished; awaiting finish of 6 more threads\n",
      "2020-07-28 15:19:08,356 : INFO : worker thread finished; awaiting finish of 5 more threads\n",
      "2020-07-28 15:19:08,357 : INFO : worker thread finished; awaiting finish of 4 more threads\n",
      "2020-07-28 15:19:08,363 : INFO : worker thread finished; awaiting finish of 3 more threads\n",
      "2020-07-28 15:19:08,364 : INFO : worker thread finished; awaiting finish of 2 more threads\n",
      "2020-07-28 15:19:08,365 : INFO : worker thread finished; awaiting finish of 1 more threads\n",
      "2020-07-28 15:19:08,368 : INFO : worker thread finished; awaiting finish of 0 more threads\n",
      "2020-07-28 15:19:08,369 : INFO : EPOCH - 13 : training on 9227204 raw words (8222937 effective words) took 6.4s, 1291945 effective words/s\n",
      "2020-07-28 15:19:09,403 : INFO : EPOCH 14 - PROGRESS: at 19.30% examples, 1553599 words/s, in_qsize 31, out_qsize 0\n",
      "2020-07-28 15:19:10,414 : INFO : EPOCH 14 - PROGRESS: at 39.43% examples, 1595703 words/s, in_qsize 32, out_qsize 0\n",
      "2020-07-28 15:19:11,419 : INFO : EPOCH 14 - PROGRESS: at 59.34% examples, 1607483 words/s, in_qsize 31, out_qsize 0\n",
      "2020-07-28 15:19:12,426 : INFO : EPOCH 14 - PROGRESS: at 79.59% examples, 1619104 words/s, in_qsize 31, out_qsize 0\n",
      "2020-07-28 15:19:13,355 : INFO : worker thread finished; awaiting finish of 15 more threads\n",
      "2020-07-28 15:19:13,358 : INFO : worker thread finished; awaiting finish of 14 more threads\n",
      "2020-07-28 15:19:13,370 : INFO : worker thread finished; awaiting finish of 13 more threads\n",
      "2020-07-28 15:19:13,377 : INFO : worker thread finished; awaiting finish of 12 more threads\n",
      "2020-07-28 15:19:13,382 : INFO : worker thread finished; awaiting finish of 11 more threads\n",
      "2020-07-28 15:19:13,383 : INFO : worker thread finished; awaiting finish of 10 more threads\n",
      "2020-07-28 15:19:13,384 : INFO : worker thread finished; awaiting finish of 9 more threads\n",
      "2020-07-28 15:19:13,385 : INFO : worker thread finished; awaiting finish of 8 more threads\n",
      "2020-07-28 15:19:13,386 : INFO : worker thread finished; awaiting finish of 7 more threads\n",
      "2020-07-28 15:19:13,393 : INFO : worker thread finished; awaiting finish of 6 more threads\n",
      "2020-07-28 15:19:13,394 : INFO : worker thread finished; awaiting finish of 5 more threads\n",
      "2020-07-28 15:19:13,396 : INFO : worker thread finished; awaiting finish of 4 more threads\n",
      "2020-07-28 15:19:13,402 : INFO : worker thread finished; awaiting finish of 3 more threads\n",
      "2020-07-28 15:19:13,404 : INFO : worker thread finished; awaiting finish of 2 more threads\n",
      "2020-07-28 15:19:13,405 : INFO : worker thread finished; awaiting finish of 1 more threads\n",
      "2020-07-28 15:19:13,407 : INFO : worker thread finished; awaiting finish of 0 more threads\n",
      "2020-07-28 15:19:13,408 : INFO : EPOCH - 14 : training on 9227204 raw words (8222726 effective words) took 5.0s, 1636203 effective words/s\n",
      "2020-07-28 15:19:14,424 : INFO : EPOCH 15 - PROGRESS: at 19.19% examples, 1570723 words/s, in_qsize 32, out_qsize 0\n",
      "2020-07-28 15:19:15,439 : INFO : EPOCH 15 - PROGRESS: at 39.33% examples, 1602291 words/s, in_qsize 31, out_qsize 0\n",
      "2020-07-28 15:19:16,444 : INFO : EPOCH 15 - PROGRESS: at 59.44% examples, 1617694 words/s, in_qsize 32, out_qsize 0\n",
      "2020-07-28 15:19:17,445 : INFO : EPOCH 15 - PROGRESS: at 79.49% examples, 1624968 words/s, in_qsize 32, out_qsize 0\n",
      "2020-07-28 15:19:18,386 : INFO : worker thread finished; awaiting finish of 15 more threads\n",
      "2020-07-28 15:19:18,388 : INFO : worker thread finished; awaiting finish of 14 more threads\n",
      "2020-07-28 15:19:18,390 : INFO : worker thread finished; awaiting finish of 13 more threads\n",
      "2020-07-28 15:19:18,399 : INFO : worker thread finished; awaiting finish of 12 more threads\n",
      "2020-07-28 15:19:18,400 : INFO : worker thread finished; awaiting finish of 11 more threads\n",
      "2020-07-28 15:19:18,400 : INFO : worker thread finished; awaiting finish of 10 more threads\n",
      "2020-07-28 15:19:18,401 : INFO : worker thread finished; awaiting finish of 9 more threads\n",
      "2020-07-28 15:19:18,402 : INFO : worker thread finished; awaiting finish of 8 more threads\n",
      "2020-07-28 15:19:18,403 : INFO : worker thread finished; awaiting finish of 7 more threads\n",
      "2020-07-28 15:19:18,403 : INFO : worker thread finished; awaiting finish of 6 more threads\n",
      "2020-07-28 15:19:18,404 : INFO : worker thread finished; awaiting finish of 5 more threads\n",
      "2020-07-28 15:19:18,408 : INFO : worker thread finished; awaiting finish of 4 more threads\n",
      "2020-07-28 15:19:18,410 : INFO : worker thread finished; awaiting finish of 3 more threads\n",
      "2020-07-28 15:19:18,412 : INFO : worker thread finished; awaiting finish of 2 more threads\n",
      "2020-07-28 15:19:18,413 : INFO : worker thread finished; awaiting finish of 1 more threads\n",
      "2020-07-28 15:19:18,420 : INFO : worker thread finished; awaiting finish of 0 more threads\n",
      "2020-07-28 15:19:18,420 : INFO : EPOCH - 15 : training on 9227204 raw words (8222296 effective words) took 5.0s, 1644682 effective words/s\n",
      "2020-07-28 15:19:19,440 : INFO : EPOCH 16 - PROGRESS: at 19.30% examples, 1572952 words/s, in_qsize 31, out_qsize 0\n",
      "2020-07-28 15:19:20,450 : INFO : EPOCH 16 - PROGRESS: at 39.33% examples, 1602826 words/s, in_qsize 31, out_qsize 2\n",
      "2020-07-28 15:19:21,474 : INFO : EPOCH 16 - PROGRESS: at 59.55% examples, 1610494 words/s, in_qsize 30, out_qsize 1\n"
     ]
    },
    {
     "name": "stderr",
     "output_type": "stream",
     "text": [
      "2020-07-28 15:19:22,477 : INFO : EPOCH 16 - PROGRESS: at 75.89% examples, 1543790 words/s, in_qsize 30, out_qsize 1\n",
      "2020-07-28 15:19:23,478 : INFO : EPOCH 16 - PROGRESS: at 89.45% examples, 1458011 words/s, in_qsize 31, out_qsize 0\n",
      "2020-07-28 15:19:24,084 : INFO : worker thread finished; awaiting finish of 15 more threads\n",
      "2020-07-28 15:19:24,096 : INFO : worker thread finished; awaiting finish of 14 more threads\n",
      "2020-07-28 15:19:24,100 : INFO : worker thread finished; awaiting finish of 13 more threads\n",
      "2020-07-28 15:19:24,123 : INFO : worker thread finished; awaiting finish of 12 more threads\n",
      "2020-07-28 15:19:24,127 : INFO : worker thread finished; awaiting finish of 11 more threads\n",
      "2020-07-28 15:19:24,131 : INFO : worker thread finished; awaiting finish of 10 more threads\n",
      "2020-07-28 15:19:24,132 : INFO : worker thread finished; awaiting finish of 9 more threads\n",
      "2020-07-28 15:19:24,133 : INFO : worker thread finished; awaiting finish of 8 more threads\n",
      "2020-07-28 15:19:24,134 : INFO : worker thread finished; awaiting finish of 7 more threads\n",
      "2020-07-28 15:19:24,134 : INFO : worker thread finished; awaiting finish of 6 more threads\n",
      "2020-07-28 15:19:24,136 : INFO : worker thread finished; awaiting finish of 5 more threads\n",
      "2020-07-28 15:19:24,136 : INFO : worker thread finished; awaiting finish of 4 more threads\n",
      "2020-07-28 15:19:24,143 : INFO : worker thread finished; awaiting finish of 3 more threads\n",
      "2020-07-28 15:19:24,152 : INFO : worker thread finished; awaiting finish of 2 more threads\n",
      "2020-07-28 15:19:24,154 : INFO : worker thread finished; awaiting finish of 1 more threads\n",
      "2020-07-28 15:19:24,156 : INFO : worker thread finished; awaiting finish of 0 more threads\n",
      "2020-07-28 15:19:24,157 : INFO : EPOCH - 16 : training on 9227204 raw words (8221733 effective words) took 5.7s, 1436274 effective words/s\n",
      "2020-07-28 15:19:25,196 : INFO : EPOCH 17 - PROGRESS: at 14.11% examples, 1129086 words/s, in_qsize 31, out_qsize 0\n",
      "2020-07-28 15:19:26,215 : INFO : EPOCH 17 - PROGRESS: at 31.10% examples, 1250630 words/s, in_qsize 31, out_qsize 0\n",
      "2020-07-28 15:19:27,219 : INFO : EPOCH 17 - PROGRESS: at 49.38% examples, 1332073 words/s, in_qsize 30, out_qsize 1\n",
      "2020-07-28 15:19:28,225 : INFO : EPOCH 17 - PROGRESS: at 65.83% examples, 1335811 words/s, in_qsize 31, out_qsize 0\n",
      "2020-07-28 15:19:29,233 : INFO : EPOCH 17 - PROGRESS: at 81.88% examples, 1330166 words/s, in_qsize 31, out_qsize 0\n",
      "2020-07-28 15:19:30,180 : INFO : worker thread finished; awaiting finish of 15 more threads\n",
      "2020-07-28 15:19:30,218 : INFO : worker thread finished; awaiting finish of 14 more threads\n",
      "2020-07-28 15:19:30,230 : INFO : worker thread finished; awaiting finish of 13 more threads\n",
      "2020-07-28 15:19:30,236 : INFO : EPOCH 17 - PROGRESS: at 98.80% examples, 1339279 words/s, in_qsize 8, out_qsize 9\n",
      "2020-07-28 15:19:30,241 : INFO : worker thread finished; awaiting finish of 12 more threads\n",
      "2020-07-28 15:19:30,242 : INFO : worker thread finished; awaiting finish of 11 more threads\n",
      "2020-07-28 15:19:30,242 : INFO : worker thread finished; awaiting finish of 10 more threads\n",
      "2020-07-28 15:19:30,243 : INFO : worker thread finished; awaiting finish of 9 more threads\n",
      "2020-07-28 15:19:30,244 : INFO : worker thread finished; awaiting finish of 8 more threads\n",
      "2020-07-28 15:19:30,245 : INFO : worker thread finished; awaiting finish of 7 more threads\n",
      "2020-07-28 15:19:30,262 : INFO : worker thread finished; awaiting finish of 6 more threads\n",
      "2020-07-28 15:19:30,263 : INFO : worker thread finished; awaiting finish of 5 more threads\n",
      "2020-07-28 15:19:30,265 : INFO : worker thread finished; awaiting finish of 4 more threads\n",
      "2020-07-28 15:19:30,266 : INFO : worker thread finished; awaiting finish of 3 more threads\n",
      "2020-07-28 15:19:30,268 : INFO : worker thread finished; awaiting finish of 2 more threads\n",
      "2020-07-28 15:19:30,269 : INFO : worker thread finished; awaiting finish of 1 more threads\n",
      "2020-07-28 15:19:30,270 : INFO : worker thread finished; awaiting finish of 0 more threads\n",
      "2020-07-28 15:19:30,271 : INFO : EPOCH - 17 : training on 9227204 raw words (8222328 effective words) took 6.1s, 1347792 effective words/s\n",
      "2020-07-28 15:19:31,289 : INFO : EPOCH 18 - PROGRESS: at 14.54% examples, 1188508 words/s, in_qsize 31, out_qsize 0\n",
      "2020-07-28 15:19:32,303 : INFO : EPOCH 18 - PROGRESS: at 31.32% examples, 1275839 words/s, in_qsize 31, out_qsize 0\n",
      "2020-07-28 15:19:33,326 : INFO : EPOCH 18 - PROGRESS: at 47.75% examples, 1292216 words/s, in_qsize 30, out_qsize 1\n",
      "2020-07-28 15:19:34,338 : INFO : EPOCH 18 - PROGRESS: at 65.61% examples, 1332165 words/s, in_qsize 30, out_qsize 2\n",
      "2020-07-28 15:19:35,345 : INFO : EPOCH 18 - PROGRESS: at 82.85% examples, 1347055 words/s, in_qsize 32, out_qsize 0\n",
      "2020-07-28 15:19:36,247 : INFO : worker thread finished; awaiting finish of 15 more threads\n",
      "2020-07-28 15:19:36,250 : INFO : worker thread finished; awaiting finish of 14 more threads\n",
      "2020-07-28 15:19:36,252 : INFO : worker thread finished; awaiting finish of 13 more threads\n",
      "2020-07-28 15:19:36,272 : INFO : worker thread finished; awaiting finish of 12 more threads\n",
      "2020-07-28 15:19:36,278 : INFO : worker thread finished; awaiting finish of 11 more threads\n",
      "2020-07-28 15:19:36,280 : INFO : worker thread finished; awaiting finish of 10 more threads\n",
      "2020-07-28 15:19:36,281 : INFO : worker thread finished; awaiting finish of 9 more threads\n",
      "2020-07-28 15:19:36,282 : INFO : worker thread finished; awaiting finish of 8 more threads\n",
      "2020-07-28 15:19:36,283 : INFO : worker thread finished; awaiting finish of 7 more threads\n",
      "2020-07-28 15:19:36,284 : INFO : worker thread finished; awaiting finish of 6 more threads\n",
      "2020-07-28 15:19:36,284 : INFO : worker thread finished; awaiting finish of 5 more threads\n",
      "2020-07-28 15:19:36,285 : INFO : worker thread finished; awaiting finish of 4 more threads\n",
      "2020-07-28 15:19:36,285 : INFO : worker thread finished; awaiting finish of 3 more threads\n",
      "2020-07-28 15:19:36,299 : INFO : worker thread finished; awaiting finish of 2 more threads\n",
      "2020-07-28 15:19:36,300 : INFO : worker thread finished; awaiting finish of 1 more threads\n",
      "2020-07-28 15:19:36,302 : INFO : worker thread finished; awaiting finish of 0 more threads\n",
      "2020-07-28 15:19:36,303 : INFO : EPOCH - 18 : training on 9227204 raw words (8223409 effective words) took 6.0s, 1366455 effective words/s\n",
      "2020-07-28 15:19:37,329 : INFO : EPOCH 19 - PROGRESS: at 16.38% examples, 1325926 words/s, in_qsize 27, out_qsize 4\n",
      "2020-07-28 15:19:38,332 : INFO : EPOCH 19 - PROGRESS: at 34.57% examples, 1408571 words/s, in_qsize 31, out_qsize 0\n",
      "2020-07-28 15:19:39,332 : INFO : EPOCH 19 - PROGRESS: at 52.62% examples, 1434767 words/s, in_qsize 30, out_qsize 1\n",
      "2020-07-28 15:19:40,344 : INFO : EPOCH 19 - PROGRESS: at 71.13% examples, 1452523 words/s, in_qsize 31, out_qsize 0\n",
      "2020-07-28 15:19:41,350 : INFO : EPOCH 19 - PROGRESS: at 88.91% examples, 1452277 words/s, in_qsize 31, out_qsize 0\n",
      "2020-07-28 15:19:41,858 : INFO : worker thread finished; awaiting finish of 15 more threads\n",
      "2020-07-28 15:19:41,863 : INFO : worker thread finished; awaiting finish of 14 more threads\n",
      "2020-07-28 15:19:41,867 : INFO : worker thread finished; awaiting finish of 13 more threads\n",
      "2020-07-28 15:19:41,897 : INFO : worker thread finished; awaiting finish of 12 more threads\n",
      "2020-07-28 15:19:41,900 : INFO : worker thread finished; awaiting finish of 11 more threads\n",
      "2020-07-28 15:19:41,905 : INFO : worker thread finished; awaiting finish of 10 more threads\n",
      "2020-07-28 15:19:41,907 : INFO : worker thread finished; awaiting finish of 9 more threads\n",
      "2020-07-28 15:19:41,908 : INFO : worker thread finished; awaiting finish of 8 more threads\n",
      "2020-07-28 15:19:41,908 : INFO : worker thread finished; awaiting finish of 7 more threads\n",
      "2020-07-28 15:19:41,910 : INFO : worker thread finished; awaiting finish of 6 more threads\n",
      "2020-07-28 15:19:41,910 : INFO : worker thread finished; awaiting finish of 5 more threads\n",
      "2020-07-28 15:19:41,911 : INFO : worker thread finished; awaiting finish of 4 more threads\n",
      "2020-07-28 15:19:41,925 : INFO : worker thread finished; awaiting finish of 3 more threads\n",
      "2020-07-28 15:19:41,926 : INFO : worker thread finished; awaiting finish of 2 more threads\n",
      "2020-07-28 15:19:41,928 : INFO : worker thread finished; awaiting finish of 1 more threads\n"
     ]
    },
    {
     "name": "stderr",
     "output_type": "stream",
     "text": [
      "2020-07-28 15:19:41,928 : INFO : worker thread finished; awaiting finish of 0 more threads\n",
      "2020-07-28 15:19:41,929 : INFO : EPOCH - 19 : training on 9227204 raw words (8222693 effective words) took 5.6s, 1464507 effective words/s\n",
      "2020-07-28 15:19:42,947 : INFO : EPOCH 20 - PROGRESS: at 16.38% examples, 1338731 words/s, in_qsize 31, out_qsize 0\n",
      "2020-07-28 15:19:43,948 : INFO : EPOCH 20 - PROGRESS: at 34.56% examples, 1416510 words/s, in_qsize 31, out_qsize 0\n",
      "2020-07-28 15:19:44,952 : INFO : EPOCH 20 - PROGRESS: at 53.05% examples, 1450052 words/s, in_qsize 31, out_qsize 0\n",
      "2020-07-28 15:19:45,962 : INFO : EPOCH 20 - PROGRESS: at 73.19% examples, 1498261 words/s, in_qsize 31, out_qsize 0\n",
      "2020-07-28 15:19:46,971 : INFO : EPOCH 20 - PROGRESS: at 93.15% examples, 1523533 words/s, in_qsize 32, out_qsize 1\n",
      "2020-07-28 15:19:47,212 : INFO : worker thread finished; awaiting finish of 15 more threads\n",
      "2020-07-28 15:19:47,227 : INFO : worker thread finished; awaiting finish of 14 more threads\n",
      "2020-07-28 15:19:47,232 : INFO : worker thread finished; awaiting finish of 13 more threads\n",
      "2020-07-28 15:19:47,240 : INFO : worker thread finished; awaiting finish of 12 more threads\n",
      "2020-07-28 15:19:47,250 : INFO : worker thread finished; awaiting finish of 11 more threads\n",
      "2020-07-28 15:19:47,253 : INFO : worker thread finished; awaiting finish of 10 more threads\n",
      "2020-07-28 15:19:47,255 : INFO : worker thread finished; awaiting finish of 9 more threads\n",
      "2020-07-28 15:19:47,257 : INFO : worker thread finished; awaiting finish of 8 more threads\n",
      "2020-07-28 15:19:47,258 : INFO : worker thread finished; awaiting finish of 7 more threads\n",
      "2020-07-28 15:19:47,260 : INFO : worker thread finished; awaiting finish of 6 more threads\n",
      "2020-07-28 15:19:47,261 : INFO : worker thread finished; awaiting finish of 5 more threads\n",
      "2020-07-28 15:19:47,267 : INFO : worker thread finished; awaiting finish of 4 more threads\n",
      "2020-07-28 15:19:47,270 : INFO : worker thread finished; awaiting finish of 3 more threads\n",
      "2020-07-28 15:19:47,271 : INFO : worker thread finished; awaiting finish of 2 more threads\n",
      "2020-07-28 15:19:47,276 : INFO : worker thread finished; awaiting finish of 1 more threads\n",
      "2020-07-28 15:19:47,279 : INFO : worker thread finished; awaiting finish of 0 more threads\n",
      "2020-07-28 15:19:47,279 : INFO : EPOCH - 20 : training on 9227204 raw words (8223117 effective words) took 5.3s, 1540783 effective words/s\n",
      "2020-07-28 15:19:48,293 : INFO : EPOCH 21 - PROGRESS: at 18.76% examples, 1539124 words/s, in_qsize 31, out_qsize 0\n",
      "2020-07-28 15:19:49,297 : INFO : EPOCH 21 - PROGRESS: at 35.97% examples, 1475041 words/s, in_qsize 32, out_qsize 0\n",
      "2020-07-28 15:19:50,300 : INFO : EPOCH 21 - PROGRESS: at 54.13% examples, 1481376 words/s, in_qsize 32, out_qsize 1\n",
      "2020-07-28 15:19:51,300 : INFO : EPOCH 21 - PROGRESS: at 73.30% examples, 1505032 words/s, in_qsize 31, out_qsize 0\n",
      "2020-07-28 15:19:52,300 : INFO : EPOCH 21 - PROGRESS: at 92.94% examples, 1526314 words/s, in_qsize 32, out_qsize 0\n",
      "2020-07-28 15:19:52,581 : INFO : worker thread finished; awaiting finish of 15 more threads\n",
      "2020-07-28 15:19:52,584 : INFO : worker thread finished; awaiting finish of 14 more threads\n",
      "2020-07-28 15:19:52,591 : INFO : worker thread finished; awaiting finish of 13 more threads\n",
      "2020-07-28 15:19:52,600 : INFO : worker thread finished; awaiting finish of 12 more threads\n",
      "2020-07-28 15:19:52,616 : INFO : worker thread finished; awaiting finish of 11 more threads\n",
      "2020-07-28 15:19:52,618 : INFO : worker thread finished; awaiting finish of 10 more threads\n",
      "2020-07-28 15:19:52,619 : INFO : worker thread finished; awaiting finish of 9 more threads\n",
      "2020-07-28 15:19:52,620 : INFO : worker thread finished; awaiting finish of 8 more threads\n",
      "2020-07-28 15:19:52,621 : INFO : worker thread finished; awaiting finish of 7 more threads\n",
      "2020-07-28 15:19:52,622 : INFO : worker thread finished; awaiting finish of 6 more threads\n",
      "2020-07-28 15:19:52,622 : INFO : worker thread finished; awaiting finish of 5 more threads\n",
      "2020-07-28 15:19:52,623 : INFO : worker thread finished; awaiting finish of 4 more threads\n",
      "2020-07-28 15:19:52,627 : INFO : worker thread finished; awaiting finish of 3 more threads\n",
      "2020-07-28 15:19:52,638 : INFO : worker thread finished; awaiting finish of 2 more threads\n",
      "2020-07-28 15:19:52,640 : INFO : worker thread finished; awaiting finish of 1 more threads\n",
      "2020-07-28 15:19:52,642 : INFO : worker thread finished; awaiting finish of 0 more threads\n",
      "2020-07-28 15:19:52,643 : INFO : EPOCH - 21 : training on 9227204 raw words (8224378 effective words) took 5.4s, 1537117 effective words/s\n",
      "2020-07-28 15:19:53,657 : INFO : EPOCH 22 - PROGRESS: at 18.97% examples, 1557288 words/s, in_qsize 32, out_qsize 0\n",
      "2020-07-28 15:19:54,659 : INFO : EPOCH 22 - PROGRESS: at 36.94% examples, 1517113 words/s, in_qsize 29, out_qsize 2\n",
      "2020-07-28 15:19:55,675 : INFO : EPOCH 22 - PROGRESS: at 56.08% examples, 1528843 words/s, in_qsize 32, out_qsize 1\n",
      "2020-07-28 15:19:56,678 : INFO : EPOCH 22 - PROGRESS: at 74.91% examples, 1532945 words/s, in_qsize 30, out_qsize 1\n",
      "2020-07-28 15:19:57,706 : INFO : EPOCH 22 - PROGRESS: at 92.39% examples, 1504927 words/s, in_qsize 26, out_qsize 5\n",
      "2020-07-28 15:19:58,011 : INFO : worker thread finished; awaiting finish of 15 more threads\n",
      "2020-07-28 15:19:58,019 : INFO : worker thread finished; awaiting finish of 14 more threads\n",
      "2020-07-28 15:19:58,021 : INFO : worker thread finished; awaiting finish of 13 more threads\n",
      "2020-07-28 15:19:58,040 : INFO : worker thread finished; awaiting finish of 12 more threads\n",
      "2020-07-28 15:19:58,046 : INFO : worker thread finished; awaiting finish of 11 more threads\n",
      "2020-07-28 15:19:58,048 : INFO : worker thread finished; awaiting finish of 10 more threads\n",
      "2020-07-28 15:19:58,049 : INFO : worker thread finished; awaiting finish of 9 more threads\n",
      "2020-07-28 15:19:58,050 : INFO : worker thread finished; awaiting finish of 8 more threads\n",
      "2020-07-28 15:19:58,051 : INFO : worker thread finished; awaiting finish of 7 more threads\n",
      "2020-07-28 15:19:58,051 : INFO : worker thread finished; awaiting finish of 6 more threads\n",
      "2020-07-28 15:19:58,052 : INFO : worker thread finished; awaiting finish of 5 more threads\n",
      "2020-07-28 15:19:58,052 : INFO : worker thread finished; awaiting finish of 4 more threads\n",
      "2020-07-28 15:19:58,053 : INFO : worker thread finished; awaiting finish of 3 more threads\n",
      "2020-07-28 15:19:58,065 : INFO : worker thread finished; awaiting finish of 2 more threads\n",
      "2020-07-28 15:19:58,067 : INFO : worker thread finished; awaiting finish of 1 more threads\n",
      "2020-07-28 15:19:58,069 : INFO : worker thread finished; awaiting finish of 0 more threads\n",
      "2020-07-28 15:19:58,069 : INFO : EPOCH - 22 : training on 9227204 raw words (8223186 effective words) took 5.4s, 1519176 effective words/s\n",
      "2020-07-28 15:19:59,082 : INFO : EPOCH 23 - PROGRESS: at 17.24% examples, 1415577 words/s, in_qsize 32, out_qsize 2\n",
      "2020-07-28 15:20:00,085 : INFO : EPOCH 23 - PROGRESS: at 35.21% examples, 1444917 words/s, in_qsize 31, out_qsize 0\n",
      "2020-07-28 15:20:01,091 : INFO : EPOCH 23 - PROGRESS: at 54.03% examples, 1477403 words/s, in_qsize 32, out_qsize 3\n",
      "2020-07-28 15:20:02,091 : INFO : EPOCH 23 - PROGRESS: at 73.19% examples, 1501938 words/s, in_qsize 30, out_qsize 1\n",
      "2020-07-28 15:20:03,098 : INFO : EPOCH 23 - PROGRESS: at 92.61% examples, 1518218 words/s, in_qsize 29, out_qsize 2\n",
      "2020-07-28 15:20:03,432 : INFO : worker thread finished; awaiting finish of 15 more threads\n",
      "2020-07-28 15:20:03,472 : INFO : worker thread finished; awaiting finish of 14 more threads\n",
      "2020-07-28 15:20:03,485 : INFO : worker thread finished; awaiting finish of 13 more threads\n",
      "2020-07-28 15:20:03,488 : INFO : worker thread finished; awaiting finish of 12 more threads\n",
      "2020-07-28 15:20:03,493 : INFO : worker thread finished; awaiting finish of 11 more threads\n",
      "2020-07-28 15:20:03,494 : INFO : worker thread finished; awaiting finish of 10 more threads\n",
      "2020-07-28 15:20:03,495 : INFO : worker thread finished; awaiting finish of 9 more threads\n",
      "2020-07-28 15:20:03,496 : INFO : worker thread finished; awaiting finish of 8 more threads\n",
      "2020-07-28 15:20:03,497 : INFO : worker thread finished; awaiting finish of 7 more threads\n",
      "2020-07-28 15:20:03,498 : INFO : worker thread finished; awaiting finish of 6 more threads\n"
     ]
    },
    {
     "name": "stderr",
     "output_type": "stream",
     "text": [
      "2020-07-28 15:20:03,513 : INFO : worker thread finished; awaiting finish of 5 more threads\n",
      "2020-07-28 15:20:03,514 : INFO : worker thread finished; awaiting finish of 4 more threads\n",
      "2020-07-28 15:20:03,516 : INFO : worker thread finished; awaiting finish of 3 more threads\n",
      "2020-07-28 15:20:03,518 : INFO : worker thread finished; awaiting finish of 2 more threads\n",
      "2020-07-28 15:20:03,519 : INFO : worker thread finished; awaiting finish of 1 more threads\n",
      "2020-07-28 15:20:03,520 : INFO : worker thread finished; awaiting finish of 0 more threads\n",
      "2020-07-28 15:20:03,521 : INFO : EPOCH - 23 : training on 9227204 raw words (8222129 effective words) took 5.4s, 1511767 effective words/s\n",
      "2020-07-28 15:20:04,543 : INFO : EPOCH 24 - PROGRESS: at 17.24% examples, 1405355 words/s, in_qsize 30, out_qsize 1\n",
      "2020-07-28 15:20:05,545 : INFO : EPOCH 24 - PROGRESS: at 34.67% examples, 1418232 words/s, in_qsize 29, out_qsize 2\n",
      "2020-07-28 15:20:06,575 : INFO : EPOCH 24 - PROGRESS: at 53.70% examples, 1453771 words/s, in_qsize 31, out_qsize 0\n",
      "2020-07-28 15:20:07,575 : INFO : EPOCH 24 - PROGRESS: at 73.83% examples, 1503955 words/s, in_qsize 31, out_qsize 0\n",
      "2020-07-28 15:20:08,578 : INFO : EPOCH 24 - PROGRESS: at 93.27% examples, 1520873 words/s, in_qsize 30, out_qsize 1\n",
      "2020-07-28 15:20:08,839 : INFO : worker thread finished; awaiting finish of 15 more threads\n",
      "2020-07-28 15:20:08,850 : INFO : worker thread finished; awaiting finish of 14 more threads\n",
      "2020-07-28 15:20:08,858 : INFO : worker thread finished; awaiting finish of 13 more threads\n",
      "2020-07-28 15:20:08,862 : INFO : worker thread finished; awaiting finish of 12 more threads\n",
      "2020-07-28 15:20:08,864 : INFO : worker thread finished; awaiting finish of 11 more threads\n",
      "2020-07-28 15:20:08,865 : INFO : worker thread finished; awaiting finish of 10 more threads\n",
      "2020-07-28 15:20:08,865 : INFO : worker thread finished; awaiting finish of 9 more threads\n",
      "2020-07-28 15:20:08,866 : INFO : worker thread finished; awaiting finish of 8 more threads\n",
      "2020-07-28 15:20:08,867 : INFO : worker thread finished; awaiting finish of 7 more threads\n",
      "2020-07-28 15:20:08,868 : INFO : worker thread finished; awaiting finish of 6 more threads\n",
      "2020-07-28 15:20:08,874 : INFO : worker thread finished; awaiting finish of 5 more threads\n",
      "2020-07-28 15:20:08,875 : INFO : worker thread finished; awaiting finish of 4 more threads\n",
      "2020-07-28 15:20:08,877 : INFO : worker thread finished; awaiting finish of 3 more threads\n",
      "2020-07-28 15:20:08,884 : INFO : worker thread finished; awaiting finish of 2 more threads\n",
      "2020-07-28 15:20:08,885 : INFO : worker thread finished; awaiting finish of 1 more threads\n",
      "2020-07-28 15:20:08,885 : INFO : worker thread finished; awaiting finish of 0 more threads\n",
      "2020-07-28 15:20:08,886 : INFO : EPOCH - 24 : training on 9227204 raw words (8223245 effective words) took 5.4s, 1536855 effective words/s\n",
      "2020-07-28 15:20:09,919 : INFO : EPOCH 25 - PROGRESS: at 19.29% examples, 1554780 words/s, in_qsize 32, out_qsize 0\n",
      "2020-07-28 15:20:10,928 : INFO : EPOCH 25 - PROGRESS: at 39.43% examples, 1597870 words/s, in_qsize 31, out_qsize 0\n",
      "2020-07-28 15:20:11,943 : INFO : EPOCH 25 - PROGRESS: at 58.58% examples, 1583423 words/s, in_qsize 31, out_qsize 0\n",
      "2020-07-28 15:20:12,948 : INFO : EPOCH 25 - PROGRESS: at 78.40% examples, 1592952 words/s, in_qsize 31, out_qsize 0\n",
      "2020-07-28 15:20:13,956 : INFO : EPOCH 25 - PROGRESS: at 94.47% examples, 1536101 words/s, in_qsize 30, out_qsize 1\n",
      "2020-07-28 15:20:14,165 : INFO : worker thread finished; awaiting finish of 15 more threads\n",
      "2020-07-28 15:20:14,175 : INFO : worker thread finished; awaiting finish of 14 more threads\n",
      "2020-07-28 15:20:14,176 : INFO : worker thread finished; awaiting finish of 13 more threads\n",
      "2020-07-28 15:20:14,180 : INFO : worker thread finished; awaiting finish of 12 more threads\n",
      "2020-07-28 15:20:14,196 : INFO : worker thread finished; awaiting finish of 11 more threads\n",
      "2020-07-28 15:20:14,197 : INFO : worker thread finished; awaiting finish of 10 more threads\n",
      "2020-07-28 15:20:14,198 : INFO : worker thread finished; awaiting finish of 9 more threads\n",
      "2020-07-28 15:20:14,199 : INFO : worker thread finished; awaiting finish of 8 more threads\n",
      "2020-07-28 15:20:14,200 : INFO : worker thread finished; awaiting finish of 7 more threads\n",
      "2020-07-28 15:20:14,208 : INFO : worker thread finished; awaiting finish of 6 more threads\n",
      "2020-07-28 15:20:14,209 : INFO : worker thread finished; awaiting finish of 5 more threads\n",
      "2020-07-28 15:20:14,211 : INFO : worker thread finished; awaiting finish of 4 more threads\n",
      "2020-07-28 15:20:14,211 : INFO : worker thread finished; awaiting finish of 3 more threads\n",
      "2020-07-28 15:20:14,212 : INFO : worker thread finished; awaiting finish of 2 more threads\n",
      "2020-07-28 15:20:14,221 : INFO : worker thread finished; awaiting finish of 1 more threads\n",
      "2020-07-28 15:20:14,224 : INFO : worker thread finished; awaiting finish of 0 more threads\n",
      "2020-07-28 15:20:14,224 : INFO : EPOCH - 25 : training on 9227204 raw words (8223498 effective words) took 5.3s, 1544169 effective words/s\n",
      "2020-07-28 15:20:15,249 : INFO : EPOCH 26 - PROGRESS: at 16.37% examples, 1332289 words/s, in_qsize 31, out_qsize 0\n",
      "2020-07-28 15:20:16,261 : INFO : EPOCH 26 - PROGRESS: at 34.67% examples, 1409933 words/s, in_qsize 32, out_qsize 0\n",
      "2020-07-28 15:20:17,268 : INFO : EPOCH 26 - PROGRESS: at 54.45% examples, 1479437 words/s, in_qsize 32, out_qsize 1\n",
      "2020-07-28 15:20:18,270 : INFO : EPOCH 26 - PROGRESS: at 73.94% examples, 1509373 words/s, in_qsize 31, out_qsize 1\n",
      "2020-07-28 15:20:19,286 : INFO : EPOCH 26 - PROGRESS: at 91.09% examples, 1484386 words/s, in_qsize 31, out_qsize 0\n",
      "2020-07-28 15:20:19,716 : INFO : worker thread finished; awaiting finish of 15 more threads\n",
      "2020-07-28 15:20:19,723 : INFO : worker thread finished; awaiting finish of 14 more threads\n",
      "2020-07-28 15:20:19,732 : INFO : worker thread finished; awaiting finish of 13 more threads\n",
      "2020-07-28 15:20:19,736 : INFO : worker thread finished; awaiting finish of 12 more threads\n",
      "2020-07-28 15:20:19,737 : INFO : worker thread finished; awaiting finish of 11 more threads\n",
      "2020-07-28 15:20:19,738 : INFO : worker thread finished; awaiting finish of 10 more threads\n",
      "2020-07-28 15:20:19,738 : INFO : worker thread finished; awaiting finish of 9 more threads\n",
      "2020-07-28 15:20:19,739 : INFO : worker thread finished; awaiting finish of 8 more threads\n",
      "2020-07-28 15:20:19,741 : INFO : worker thread finished; awaiting finish of 7 more threads\n",
      "2020-07-28 15:20:19,749 : INFO : worker thread finished; awaiting finish of 6 more threads\n",
      "2020-07-28 15:20:19,756 : INFO : worker thread finished; awaiting finish of 5 more threads\n",
      "2020-07-28 15:20:19,757 : INFO : worker thread finished; awaiting finish of 4 more threads\n",
      "2020-07-28 15:20:19,758 : INFO : worker thread finished; awaiting finish of 3 more threads\n",
      "2020-07-28 15:20:19,759 : INFO : worker thread finished; awaiting finish of 2 more threads\n",
      "2020-07-28 15:20:19,760 : INFO : worker thread finished; awaiting finish of 1 more threads\n",
      "2020-07-28 15:20:19,762 : INFO : worker thread finished; awaiting finish of 0 more threads\n",
      "2020-07-28 15:20:19,763 : INFO : EPOCH - 26 : training on 9227204 raw words (8222678 effective words) took 5.5s, 1488623 effective words/s\n",
      "2020-07-28 15:20:20,778 : INFO : EPOCH 27 - PROGRESS: at 15.73% examples, 1289970 words/s, in_qsize 26, out_qsize 5\n",
      "2020-07-28 15:20:21,788 : INFO : EPOCH 27 - PROGRESS: at 34.57% examples, 1412533 words/s, in_qsize 32, out_qsize 0\n",
      "2020-07-28 15:20:22,800 : INFO : EPOCH 27 - PROGRESS: at 53.38% examples, 1452795 words/s, in_qsize 30, out_qsize 1\n",
      "2020-07-28 15:20:23,807 : INFO : EPOCH 27 - PROGRESS: at 70.70% examples, 1443204 words/s, in_qsize 32, out_qsize 0\n",
      "2020-07-28 15:20:24,817 : INFO : EPOCH 27 - PROGRESS: at 89.67% examples, 1463345 words/s, in_qsize 32, out_qsize 0\n",
      "2020-07-28 15:20:25,252 : INFO : worker thread finished; awaiting finish of 15 more threads\n",
      "2020-07-28 15:20:25,266 : INFO : worker thread finished; awaiting finish of 14 more threads\n",
      "2020-07-28 15:20:25,286 : INFO : worker thread finished; awaiting finish of 13 more threads\n",
      "2020-07-28 15:20:25,293 : INFO : worker thread finished; awaiting finish of 12 more threads\n",
      "2020-07-28 15:20:25,302 : INFO : worker thread finished; awaiting finish of 11 more threads\n"
     ]
    },
    {
     "name": "stderr",
     "output_type": "stream",
     "text": [
      "2020-07-28 15:20:25,304 : INFO : worker thread finished; awaiting finish of 10 more threads\n",
      "2020-07-28 15:20:25,306 : INFO : worker thread finished; awaiting finish of 9 more threads\n",
      "2020-07-28 15:20:25,307 : INFO : worker thread finished; awaiting finish of 8 more threads\n",
      "2020-07-28 15:20:25,307 : INFO : worker thread finished; awaiting finish of 7 more threads\n",
      "2020-07-28 15:20:25,308 : INFO : worker thread finished; awaiting finish of 6 more threads\n",
      "2020-07-28 15:20:25,309 : INFO : worker thread finished; awaiting finish of 5 more threads\n",
      "2020-07-28 15:20:25,318 : INFO : worker thread finished; awaiting finish of 4 more threads\n",
      "2020-07-28 15:20:25,320 : INFO : worker thread finished; awaiting finish of 3 more threads\n",
      "2020-07-28 15:20:25,325 : INFO : worker thread finished; awaiting finish of 2 more threads\n",
      "2020-07-28 15:20:25,326 : INFO : worker thread finished; awaiting finish of 1 more threads\n",
      "2020-07-28 15:20:25,328 : INFO : worker thread finished; awaiting finish of 0 more threads\n",
      "2020-07-28 15:20:25,329 : INFO : EPOCH - 27 : training on 9227204 raw words (8223140 effective words) took 5.6s, 1480974 effective words/s\n",
      "2020-07-28 15:20:26,350 : INFO : EPOCH 28 - PROGRESS: at 18.22% examples, 1484272 words/s, in_qsize 32, out_qsize 0\n",
      "2020-07-28 15:20:27,356 : INFO : EPOCH 28 - PROGRESS: at 37.59% examples, 1534948 words/s, in_qsize 29, out_qsize 2\n",
      "2020-07-28 15:20:28,358 : INFO : EPOCH 28 - PROGRESS: at 56.73% examples, 1547987 words/s, in_qsize 32, out_qsize 0\n",
      "2020-07-28 15:20:29,365 : INFO : EPOCH 28 - PROGRESS: at 76.11% examples, 1557125 words/s, in_qsize 32, out_qsize 0\n",
      "2020-07-28 15:20:30,368 : INFO : EPOCH 28 - PROGRESS: at 95.77% examples, 1566959 words/s, in_qsize 29, out_qsize 2\n",
      "2020-07-28 15:20:30,498 : INFO : worker thread finished; awaiting finish of 15 more threads\n",
      "2020-07-28 15:20:30,508 : INFO : worker thread finished; awaiting finish of 14 more threads\n",
      "2020-07-28 15:20:30,511 : INFO : worker thread finished; awaiting finish of 13 more threads\n",
      "2020-07-28 15:20:30,529 : INFO : worker thread finished; awaiting finish of 12 more threads\n",
      "2020-07-28 15:20:30,534 : INFO : worker thread finished; awaiting finish of 11 more threads\n",
      "2020-07-28 15:20:30,535 : INFO : worker thread finished; awaiting finish of 10 more threads\n",
      "2020-07-28 15:20:30,536 : INFO : worker thread finished; awaiting finish of 9 more threads\n",
      "2020-07-28 15:20:30,537 : INFO : worker thread finished; awaiting finish of 8 more threads\n",
      "2020-07-28 15:20:30,538 : INFO : worker thread finished; awaiting finish of 7 more threads\n",
      "2020-07-28 15:20:30,539 : INFO : worker thread finished; awaiting finish of 6 more threads\n",
      "2020-07-28 15:20:30,540 : INFO : worker thread finished; awaiting finish of 5 more threads\n",
      "2020-07-28 15:20:30,540 : INFO : worker thread finished; awaiting finish of 4 more threads\n",
      "2020-07-28 15:20:30,545 : INFO : worker thread finished; awaiting finish of 3 more threads\n",
      "2020-07-28 15:20:30,555 : INFO : worker thread finished; awaiting finish of 2 more threads\n",
      "2020-07-28 15:20:30,556 : INFO : worker thread finished; awaiting finish of 1 more threads\n",
      "2020-07-28 15:20:30,558 : INFO : worker thread finished; awaiting finish of 0 more threads\n",
      "2020-07-28 15:20:30,558 : INFO : EPOCH - 28 : training on 9227204 raw words (8224178 effective words) took 5.2s, 1576685 effective words/s\n",
      "2020-07-28 15:20:31,575 : INFO : EPOCH 29 - PROGRESS: at 12.82% examples, 1047049 words/s, in_qsize 31, out_qsize 0\n",
      "2020-07-28 15:20:32,590 : INFO : EPOCH 29 - PROGRESS: at 27.10% examples, 1103257 words/s, in_qsize 32, out_qsize 5\n",
      "2020-07-28 15:20:33,602 : INFO : EPOCH 29 - PROGRESS: at 42.89% examples, 1163698 words/s, in_qsize 31, out_qsize 0\n",
      "2020-07-28 15:20:34,614 : INFO : EPOCH 29 - PROGRESS: at 61.71% examples, 1256303 words/s, in_qsize 32, out_qsize 1\n",
      "2020-07-28 15:20:35,641 : INFO : EPOCH 29 - PROGRESS: at 81.77% examples, 1326690 words/s, in_qsize 29, out_qsize 2\n",
      "2020-07-28 15:20:36,461 : INFO : worker thread finished; awaiting finish of 15 more threads\n",
      "2020-07-28 15:20:36,472 : INFO : worker thread finished; awaiting finish of 14 more threads\n",
      "2020-07-28 15:20:36,480 : INFO : worker thread finished; awaiting finish of 13 more threads\n",
      "2020-07-28 15:20:36,485 : INFO : worker thread finished; awaiting finish of 12 more threads\n",
      "2020-07-28 15:20:36,486 : INFO : worker thread finished; awaiting finish of 11 more threads\n",
      "2020-07-28 15:20:36,487 : INFO : worker thread finished; awaiting finish of 10 more threads\n",
      "2020-07-28 15:20:36,488 : INFO : worker thread finished; awaiting finish of 9 more threads\n",
      "2020-07-28 15:20:36,488 : INFO : worker thread finished; awaiting finish of 8 more threads\n",
      "2020-07-28 15:20:36,490 : INFO : worker thread finished; awaiting finish of 7 more threads\n",
      "2020-07-28 15:20:36,490 : INFO : worker thread finished; awaiting finish of 6 more threads\n",
      "2020-07-28 15:20:36,496 : INFO : worker thread finished; awaiting finish of 5 more threads\n",
      "2020-07-28 15:20:36,497 : INFO : worker thread finished; awaiting finish of 4 more threads\n",
      "2020-07-28 15:20:36,499 : INFO : worker thread finished; awaiting finish of 3 more threads\n",
      "2020-07-28 15:20:36,505 : INFO : worker thread finished; awaiting finish of 2 more threads\n",
      "2020-07-28 15:20:36,507 : INFO : worker thread finished; awaiting finish of 1 more threads\n",
      "2020-07-28 15:20:36,510 : INFO : worker thread finished; awaiting finish of 0 more threads\n",
      "2020-07-28 15:20:36,511 : INFO : EPOCH - 29 : training on 9227204 raw words (8223324 effective words) took 5.9s, 1384445 effective words/s\n",
      "2020-07-28 15:20:37,529 : INFO : EPOCH 30 - PROGRESS: at 18.97% examples, 1551379 words/s, in_qsize 31, out_qsize 0\n",
      "2020-07-28 15:20:38,535 : INFO : EPOCH 30 - PROGRESS: at 38.68% examples, 1580974 words/s, in_qsize 31, out_qsize 0\n",
      "2020-07-28 15:20:39,536 : INFO : EPOCH 30 - PROGRESS: at 58.25% examples, 1590896 words/s, in_qsize 30, out_qsize 1\n",
      "2020-07-28 15:20:40,541 : INFO : EPOCH 30 - PROGRESS: at 77.85% examples, 1594292 words/s, in_qsize 29, out_qsize 2\n",
      "2020-07-28 15:20:41,562 : INFO : EPOCH 30 - PROGRESS: at 98.36% examples, 1605280 words/s, in_qsize 15, out_qsize 2\n",
      "2020-07-28 15:20:41,565 : INFO : worker thread finished; awaiting finish of 15 more threads\n",
      "2020-07-28 15:20:41,601 : INFO : worker thread finished; awaiting finish of 14 more threads\n",
      "2020-07-28 15:20:41,604 : INFO : worker thread finished; awaiting finish of 13 more threads\n",
      "2020-07-28 15:20:41,607 : INFO : worker thread finished; awaiting finish of 12 more threads\n",
      "2020-07-28 15:20:41,607 : INFO : worker thread finished; awaiting finish of 11 more threads\n",
      "2020-07-28 15:20:41,608 : INFO : worker thread finished; awaiting finish of 10 more threads\n",
      "2020-07-28 15:20:41,609 : INFO : worker thread finished; awaiting finish of 9 more threads\n",
      "2020-07-28 15:20:41,609 : INFO : worker thread finished; awaiting finish of 8 more threads\n",
      "2020-07-28 15:20:41,610 : INFO : worker thread finished; awaiting finish of 7 more threads\n",
      "2020-07-28 15:20:41,610 : INFO : worker thread finished; awaiting finish of 6 more threads\n",
      "2020-07-28 15:20:41,611 : INFO : worker thread finished; awaiting finish of 5 more threads\n",
      "2020-07-28 15:20:41,611 : INFO : worker thread finished; awaiting finish of 4 more threads\n",
      "2020-07-28 15:20:41,612 : INFO : worker thread finished; awaiting finish of 3 more threads\n",
      "2020-07-28 15:20:41,613 : INFO : worker thread finished; awaiting finish of 2 more threads\n",
      "2020-07-28 15:20:41,625 : INFO : worker thread finished; awaiting finish of 1 more threads\n",
      "2020-07-28 15:20:41,627 : INFO : worker thread finished; awaiting finish of 0 more threads\n",
      "2020-07-28 15:20:41,627 : INFO : EPOCH - 30 : training on 9227204 raw words (8222320 effective words) took 5.1s, 1611050 effective words/s\n",
      "2020-07-28 15:20:42,645 : INFO : EPOCH 31 - PROGRESS: at 18.97% examples, 1551375 words/s, in_qsize 32, out_qsize 1\n",
      "2020-07-28 15:20:43,646 : INFO : EPOCH 31 - PROGRESS: at 38.14% examples, 1563664 words/s, in_qsize 31, out_qsize 0\n",
      "2020-07-28 15:20:44,669 : INFO : EPOCH 31 - PROGRESS: at 57.27% examples, 1556320 words/s, in_qsize 30, out_qsize 1\n",
      "2020-07-28 15:20:45,684 : INFO : EPOCH 31 - PROGRESS: at 77.85% examples, 1584169 words/s, in_qsize 32, out_qsize 1\n",
      "2020-07-28 15:20:46,688 : INFO : EPOCH 31 - PROGRESS: at 97.71% examples, 1591835 words/s, in_qsize 22, out_qsize 0\n"
     ]
    },
    {
     "name": "stderr",
     "output_type": "stream",
     "text": [
      "2020-07-28 15:20:46,736 : INFO : worker thread finished; awaiting finish of 15 more threads\n",
      "2020-07-28 15:20:46,739 : INFO : worker thread finished; awaiting finish of 14 more threads\n",
      "2020-07-28 15:20:46,749 : INFO : worker thread finished; awaiting finish of 13 more threads\n",
      "2020-07-28 15:20:46,763 : INFO : worker thread finished; awaiting finish of 12 more threads\n",
      "2020-07-28 15:20:46,767 : INFO : worker thread finished; awaiting finish of 11 more threads\n",
      "2020-07-28 15:20:46,769 : INFO : worker thread finished; awaiting finish of 10 more threads\n",
      "2020-07-28 15:20:46,770 : INFO : worker thread finished; awaiting finish of 9 more threads\n",
      "2020-07-28 15:20:46,771 : INFO : worker thread finished; awaiting finish of 8 more threads\n",
      "2020-07-28 15:20:46,772 : INFO : worker thread finished; awaiting finish of 7 more threads\n",
      "2020-07-28 15:20:46,774 : INFO : worker thread finished; awaiting finish of 6 more threads\n",
      "2020-07-28 15:20:46,778 : INFO : worker thread finished; awaiting finish of 5 more threads\n",
      "2020-07-28 15:20:46,780 : INFO : worker thread finished; awaiting finish of 4 more threads\n",
      "2020-07-28 15:20:46,791 : INFO : worker thread finished; awaiting finish of 3 more threads\n",
      "2020-07-28 15:20:46,792 : INFO : worker thread finished; awaiting finish of 2 more threads\n",
      "2020-07-28 15:20:46,793 : INFO : worker thread finished; awaiting finish of 1 more threads\n",
      "2020-07-28 15:20:46,793 : INFO : worker thread finished; awaiting finish of 0 more threads\n",
      "2020-07-28 15:20:46,794 : INFO : EPOCH - 31 : training on 9227204 raw words (8222670 effective words) took 5.2s, 1595583 effective words/s\n",
      "2020-07-28 15:20:47,825 : INFO : EPOCH 32 - PROGRESS: at 18.86% examples, 1523227 words/s, in_qsize 30, out_qsize 1\n",
      "2020-07-28 15:20:48,836 : INFO : EPOCH 32 - PROGRESS: at 38.68% examples, 1567945 words/s, in_qsize 32, out_qsize 0\n",
      "2020-07-28 15:20:49,850 : INFO : EPOCH 32 - PROGRESS: at 57.81% examples, 1563611 words/s, in_qsize 29, out_qsize 3\n",
      "2020-07-28 15:20:50,852 : INFO : EPOCH 32 - PROGRESS: at 77.09% examples, 1568389 words/s, in_qsize 31, out_qsize 0\n",
      "2020-07-28 15:20:51,868 : INFO : EPOCH 32 - PROGRESS: at 97.18% examples, 1578968 words/s, in_qsize 27, out_qsize 0\n",
      "2020-07-28 15:20:51,940 : INFO : worker thread finished; awaiting finish of 15 more threads\n",
      "2020-07-28 15:20:51,941 : INFO : worker thread finished; awaiting finish of 14 more threads\n",
      "2020-07-28 15:20:51,976 : INFO : worker thread finished; awaiting finish of 13 more threads\n",
      "2020-07-28 15:20:51,987 : INFO : worker thread finished; awaiting finish of 12 more threads\n",
      "2020-07-28 15:20:51,990 : INFO : worker thread finished; awaiting finish of 11 more threads\n",
      "2020-07-28 15:20:51,994 : INFO : worker thread finished; awaiting finish of 10 more threads\n",
      "2020-07-28 15:20:51,996 : INFO : worker thread finished; awaiting finish of 9 more threads\n",
      "2020-07-28 15:20:51,996 : INFO : worker thread finished; awaiting finish of 8 more threads\n",
      "2020-07-28 15:20:51,997 : INFO : worker thread finished; awaiting finish of 7 more threads\n",
      "2020-07-28 15:20:51,999 : INFO : worker thread finished; awaiting finish of 6 more threads\n",
      "2020-07-28 15:20:52,014 : INFO : worker thread finished; awaiting finish of 5 more threads\n",
      "2020-07-28 15:20:52,017 : INFO : worker thread finished; awaiting finish of 4 more threads\n",
      "2020-07-28 15:20:52,019 : INFO : worker thread finished; awaiting finish of 3 more threads\n",
      "2020-07-28 15:20:52,020 : INFO : worker thread finished; awaiting finish of 2 more threads\n",
      "2020-07-28 15:20:52,021 : INFO : worker thread finished; awaiting finish of 1 more threads\n",
      "2020-07-28 15:20:52,022 : INFO : worker thread finished; awaiting finish of 0 more threads\n",
      "2020-07-28 15:20:52,023 : INFO : EPOCH - 32 : training on 9227204 raw words (8223517 effective words) took 5.2s, 1576787 effective words/s\n",
      "2020-07-28 15:20:52,023 : INFO : training on a 295270528 raw words (263132581 effective words) took 175.4s, 1499830 effective words/s\n"
     ]
    },
    {
     "name": "stdout",
     "output_type": "stream",
     "text": [
      "CPU times: user 13min 33s, sys: 3.91 s, total: 13min 37s\n",
      "Wall time: 2min 55s\n"
     ]
    },
    {
     "data": {
      "text/plain": [
       "(263132581, 295270528)"
      ]
     },
     "execution_count": 53,
     "metadata": {},
     "output_type": "execute_result"
    }
   ],
   "source": [
    "%%time\n",
    "w2v_model.train(documents, total_examples=len(documents), epochs=32)"
   ]
  },
  {
   "cell_type": "code",
   "execution_count": 150,
   "metadata": {
    "scrolled": true
   },
   "outputs": [
    {
     "name": "stderr",
     "output_type": "stream",
     "text": [
      "/Users/ellis/anaconda3/lib/python3.7/site-packages/ipykernel_launcher.py:1: DeprecationWarning: Call to deprecated `most_similar` (Method will be removed in 4.0.0, use self.wv.most_similar() instead).\n",
      "  \"\"\"Entry point for launching an IPython kernel.\n"
     ]
    },
    {
     "data": {
      "text/plain": [
       "[('fallout', 0.5006712675094604),\n",
       " ('odst', 0.47402986884117126),\n",
       " ('playstation', 0.44195127487182617),\n",
       " ('diablo', 0.41696423292160034),\n",
       " ('bioshock', 0.40825143456459045),\n",
       " ('l4d2', 0.3995174765586853),\n",
       " ('starcraft', 0.3836352229118347),\n",
       " ('3oh', 0.3791135549545288),\n",
       " ('rockband', 0.3720516562461853),\n",
       " ('sims', 0.36959683895111084)]"
      ]
     },
     "execution_count": 150,
     "metadata": {},
     "output_type": "execute_result"
    }
   ],
   "source": [
    "w2v_model.most_similar('halo')"
   ]
  },
  {
   "cell_type": "markdown",
   "metadata": {},
   "source": [
    "## Label Encoder"
   ]
  },
  {
   "cell_type": "code",
   "execution_count": 72,
   "metadata": {},
   "outputs": [
    {
     "data": {
      "text/plain": [
       "['POSITIVE', 'NEGATIVE']"
      ]
     },
     "execution_count": 72,
     "metadata": {},
     "output_type": "execute_result"
    }
   ],
   "source": [
    "labels = df_train.target.unique().tolist()\n",
    "labels"
   ]
  },
  {
   "cell_type": "code",
   "execution_count": 73,
   "metadata": {},
   "outputs": [
    {
     "name": "stdout",
     "output_type": "stream",
     "text": [
      "y_train (1280000, 1)\n",
      "y_test (320000, 1)\n"
     ]
    }
   ],
   "source": [
    "encoder = LabelEncoder()\n",
    "encoder.fit(df_train.target.tolist())\n",
    "\n",
    "y_train = encoder.transform(df_train.target.tolist())\n",
    "y_test = encoder.transform(df_test.target.tolist())\n",
    "\n",
    "y_train = y_train.reshape(-1,1)\n",
    "y_test = y_test.reshape(-1,1)\n",
    "\n",
    "print(\"y_train\",y_train.shape)\n",
    "print(\"y_test\",y_test.shape)"
   ]
  },
  {
   "cell_type": "markdown",
   "metadata": {},
   "source": [
    "## Embedding Layer"
   ]
  },
  {
   "cell_type": "code",
   "execution_count": 74,
   "metadata": {},
   "outputs": [
    {
     "name": "stdout",
     "output_type": "stream",
     "text": [
      "(290419, 300)\n"
     ]
    }
   ],
   "source": [
    "embedding_matrix = np.zeros((vocab_size, 300))\n",
    "for word, i in tokenizer.word_index.items():\n",
    "  if word in w2v_model.wv:\n",
    "    embedding_matrix[i] = w2v_model.wv[word]\n",
    "print(embedding_matrix.shape)"
   ]
  },
  {
   "cell_type": "code",
   "execution_count": 76,
   "metadata": {},
   "outputs": [],
   "source": [
    "embedding_layer = Embedding(vocab_size, \n",
    "                            300, \n",
    "                            weights=[embedding_matrix], \n",
    "                            input_length=300, \n",
    "                            trainable=False)"
   ]
  },
  {
   "cell_type": "code",
   "execution_count": 77,
   "metadata": {},
   "outputs": [
    {
     "name": "stdout",
     "output_type": "stream",
     "text": [
      "Model: \"sequential\"\n",
      "_________________________________________________________________\n",
      "Layer (type)                 Output Shape              Param #   \n",
      "=================================================================\n",
      "embedding_1 (Embedding)      (None, 300, 300)          87125700  \n",
      "_________________________________________________________________\n",
      "dropout (Dropout)            (None, 300, 300)          0         \n",
      "_________________________________________________________________\n",
      "lstm (LSTM)                  (None, 100)               160400    \n",
      "_________________________________________________________________\n",
      "dense (Dense)                (None, 1)                 101       \n",
      "=================================================================\n",
      "Total params: 87,286,201\n",
      "Trainable params: 160,501\n",
      "Non-trainable params: 87,125,700\n",
      "_________________________________________________________________\n"
     ]
    }
   ],
   "source": [
    "model = Sequential()\n",
    "model.add(embedding_layer)\n",
    "model.add(Dropout(0.5))\n",
    "model.add(LSTM(100, dropout=0.2, recurrent_dropout=0.2))\n",
    "model.add(Dense(1, activation='sigmoid'))\n",
    "\n",
    "model.summary()"
   ]
  },
  {
   "cell_type": "code",
   "execution_count": 78,
   "metadata": {},
   "outputs": [],
   "source": [
    "model.compile(loss='binary_crossentropy',\n",
    "              optimizer=\"adam\",\n",
    "              metrics=['accuracy'])"
   ]
  },
  {
   "cell_type": "code",
   "execution_count": 79,
   "metadata": {},
   "outputs": [],
   "source": [
    "callbacks = [ ReduceLROnPlateau(monitor='val_loss', patience=5, cooldown=0),\n",
    "              EarlyStopping(monitor='val_accuracy', min_delta=1e-4, patience=5)]"
   ]
  },
  {
   "cell_type": "code",
   "execution_count": 80,
   "metadata": {},
   "outputs": [
    {
     "name": "stdout",
     "output_type": "stream",
     "text": [
      "Epoch 1/8\n",
      "1125/1125 [==============================] - ETA: 0s - loss: 0.5031 - accuracy: 0.7511WARNING:tensorflow:Early stopping conditioned on metric `val_acc` which is not available. Available metrics are: loss,accuracy,val_loss,val_accuracy,lr\n"
     ]
    },
    {
     "name": "stderr",
     "output_type": "stream",
     "text": [
      "2020-07-28 16:27:54,035 : WARNING : Early stopping conditioned on metric `val_acc` which is not available. Available metrics are: loss,accuracy,val_loss,val_accuracy,lr\n"
     ]
    },
    {
     "name": "stdout",
     "output_type": "stream",
     "text": [
      "1125/1125 [==============================] - 3291s 3s/step - loss: 0.5031 - accuracy: 0.7511 - val_loss: 0.4671 - val_accuracy: 0.7792 - lr: 0.0010\n",
      "Epoch 2/8\n",
      "1125/1125 [==============================] - ETA: 0s - loss: 0.4778 - accuracy: 0.7681WARNING:tensorflow:Early stopping conditioned on metric `val_acc` which is not available. Available metrics are: loss,accuracy,val_loss,val_accuracy,lr\n"
     ]
    },
    {
     "name": "stderr",
     "output_type": "stream",
     "text": [
      "2020-07-28 17:22:40,324 : WARNING : Early stopping conditioned on metric `val_acc` which is not available. Available metrics are: loss,accuracy,val_loss,val_accuracy,lr\n"
     ]
    },
    {
     "name": "stdout",
     "output_type": "stream",
     "text": [
      "1125/1125 [==============================] - 3283s 3s/step - loss: 0.4778 - accuracy: 0.7681 - val_loss: 0.4569 - val_accuracy: 0.7844 - lr: 0.0010\n",
      "Epoch 3/8\n",
      "1125/1125 [==============================] - ETA: 0s - loss: 0.4712 - accuracy: 0.7726WARNING:tensorflow:Early stopping conditioned on metric `val_acc` which is not available. Available metrics are: loss,accuracy,val_loss,val_accuracy,lr\n"
     ]
    },
    {
     "name": "stderr",
     "output_type": "stream",
     "text": [
      "2020-07-28 18:17:25,530 : WARNING : Early stopping conditioned on metric `val_acc` which is not available. Available metrics are: loss,accuracy,val_loss,val_accuracy,lr\n"
     ]
    },
    {
     "name": "stdout",
     "output_type": "stream",
     "text": [
      "1125/1125 [==============================] - 3282s 3s/step - loss: 0.4712 - accuracy: 0.7726 - val_loss: 0.4529 - val_accuracy: 0.7867 - lr: 0.0010\n",
      "Epoch 4/8\n",
      "1125/1125 [==============================] - ETA: 0s - loss: 0.4674 - accuracy: 0.7747WARNING:tensorflow:Early stopping conditioned on metric `val_acc` which is not available. Available metrics are: loss,accuracy,val_loss,val_accuracy,lr\n"
     ]
    },
    {
     "name": "stderr",
     "output_type": "stream",
     "text": [
      "2020-07-28 19:12:00,199 : WARNING : Early stopping conditioned on metric `val_acc` which is not available. Available metrics are: loss,accuracy,val_loss,val_accuracy,lr\n"
     ]
    },
    {
     "name": "stdout",
     "output_type": "stream",
     "text": [
      "1125/1125 [==============================] - 3272s 3s/step - loss: 0.4674 - accuracy: 0.7747 - val_loss: 0.4488 - val_accuracy: 0.7883 - lr: 0.0010\n",
      "Epoch 5/8\n",
      "1125/1125 [==============================] - ETA: 0s - loss: 0.4647 - accuracy: 0.7763WARNING:tensorflow:Early stopping conditioned on metric `val_acc` which is not available. Available metrics are: loss,accuracy,val_loss,val_accuracy,lr\n"
     ]
    },
    {
     "name": "stderr",
     "output_type": "stream",
     "text": [
      "2020-07-28 20:07:22,463 : WARNING : Early stopping conditioned on metric `val_acc` which is not available. Available metrics are: loss,accuracy,val_loss,val_accuracy,lr\n"
     ]
    },
    {
     "name": "stdout",
     "output_type": "stream",
     "text": [
      "1125/1125 [==============================] - 3319s 3s/step - loss: 0.4647 - accuracy: 0.7763 - val_loss: 0.4507 - val_accuracy: 0.7880 - lr: 0.0010\n",
      "Epoch 6/8\n",
      "1125/1125 [==============================] - ETA: 0s - loss: 0.4635 - accuracy: 0.7772WARNING:tensorflow:Early stopping conditioned on metric `val_acc` which is not available. Available metrics are: loss,accuracy,val_loss,val_accuracy,lr\n"
     ]
    },
    {
     "name": "stderr",
     "output_type": "stream",
     "text": [
      "2020-07-28 21:02:09,607 : WARNING : Early stopping conditioned on metric `val_acc` which is not available. Available metrics are: loss,accuracy,val_loss,val_accuracy,lr\n"
     ]
    },
    {
     "name": "stdout",
     "output_type": "stream",
     "text": [
      "1125/1125 [==============================] - 3284s 3s/step - loss: 0.4635 - accuracy: 0.7772 - val_loss: 0.4486 - val_accuracy: 0.7899 - lr: 0.0010\n",
      "Epoch 7/8\n",
      "1125/1125 [==============================] - ETA: 0s - loss: 0.4620 - accuracy: 0.7779WARNING:tensorflow:Early stopping conditioned on metric `val_acc` which is not available. Available metrics are: loss,accuracy,val_loss,val_accuracy,lr\n"
     ]
    },
    {
     "name": "stderr",
     "output_type": "stream",
     "text": [
      "2020-07-28 21:56:45,745 : WARNING : Early stopping conditioned on metric `val_acc` which is not available. Available metrics are: loss,accuracy,val_loss,val_accuracy,lr\n"
     ]
    },
    {
     "name": "stdout",
     "output_type": "stream",
     "text": [
      "1125/1125 [==============================] - 3273s 3s/step - loss: 0.4620 - accuracy: 0.7779 - val_loss: 0.4463 - val_accuracy: 0.7905 - lr: 0.0010\n",
      "Epoch 8/8\n",
      "1125/1125 [==============================] - ETA: 0s - loss: 0.4610 - accuracy: 0.7787WARNING:tensorflow:Early stopping conditioned on metric `val_acc` which is not available. Available metrics are: loss,accuracy,val_loss,val_accuracy,lr\n"
     ]
    },
    {
     "name": "stderr",
     "output_type": "stream",
     "text": [
      "2020-07-28 22:51:25,898 : WARNING : Early stopping conditioned on metric `val_acc` which is not available. Available metrics are: loss,accuracy,val_loss,val_accuracy,lr\n"
     ]
    },
    {
     "name": "stdout",
     "output_type": "stream",
     "text": [
      "1125/1125 [==============================] - 3277s 3s/step - loss: 0.4610 - accuracy: 0.7787 - val_loss: 0.4464 - val_accuracy: 0.7913 - lr: 0.0010\n",
      "CPU times: user 2d 13min 32s, sys: 1d 13h 28min 41s, total: 3d 13h 42min 14s\n",
      "Wall time: 7h 18min 29s\n"
     ]
    }
   ],
   "source": [
    "%%time\n",
    "history = model.fit(x_train, y_train,\n",
    "                    batch_size= 1024,\n",
    "                    epochs=8,\n",
    "                    validation_split=0.1,\n",
    "                    verbose=1,\n",
    "                    callbacks=callbacks)"
   ]
  },
  {
   "cell_type": "code",
   "execution_count": 81,
   "metadata": {},
   "outputs": [
    {
     "name": "stdout",
     "output_type": "stream",
     "text": [
      "313/313 [==============================] - 215s 686ms/step - loss: 0.4455 - accuracy: 0.7912\n",
      "\n",
      "ACCURACY: 0.7911843657493591\n",
      "LOSS: 0.4454956650733948\n",
      "CPU times: user 19min 26s, sys: 14min 45s, total: 34min 12s\n",
      "Wall time: 3min 35s\n"
     ]
    }
   ],
   "source": [
    "%%time\n",
    "score = model.evaluate(x_test, y_test, batch_size=1024)\n",
    "print()\n",
    "print(\"ACCURACY:\",score[1])\n",
    "print(\"LOSS:\",score[0])"
   ]
  },
  {
   "cell_type": "code",
   "execution_count": 82,
   "metadata": {},
   "outputs": [
    {
     "name": "stderr",
     "output_type": "stream",
     "text": [
      "2020-07-28 22:56:48,355 : INFO : saving Word2Vec object under model.w2v, separately None\n",
      "2020-07-28 22:56:48,360 : INFO : not storing attribute vectors_norm\n",
      "2020-07-28 22:56:48,360 : INFO : not storing attribute cum_table\n",
      "2020-07-28 22:56:49,479 : INFO : saved model.w2v\n"
     ]
    }
   ],
   "source": [
    "model.save(KERAS_MODEL)\n",
    "w2v_model.save(WORD2VEC_MODEL)\n",
    "pickle.dump(tokenizer, open(TOKENIZER_MODEL, \"wb\"), protocol=0)\n",
    "pickle.dump(encoder, open(ENCODER_MODEL, \"wb\"), protocol=0)"
   ]
  },
  {
   "cell_type": "code",
   "execution_count": 90,
   "metadata": {},
   "outputs": [
    {
     "data": {
      "image/png": "[encoded data removed]",
      "text/plain": [
       "<Figure size 432x288 with 1 Axes>"
      ]
     },
     "metadata": {
      "needs_background": "light"
     },
     "output_type": "display_data"
    },
    {
     "data": {
      "image/png": "[encoded data removed]",
      "text/plain": [
       "<Figure size 432x288 with 1 Axes>"
      ]
     },
     "metadata": {
      "needs_background": "light"
     },
     "output_type": "display_data"
    }
   ],
   "source": [
    "acc = history.history['accuracy']\n",
    "val_acc = history.history['val_accuracy']\n",
    "loss = history.history['loss']\n",
    "val_loss = history.history['val_loss']\n",
    " \n",
    "epochs = range(len(acc))\n",
    " \n",
    "plt.plot(epochs, acc, 'b', label='Training acc')\n",
    "plt.plot(epochs, val_acc, 'r', label='Validation acc')\n",
    "plt.title('Training and validation accuracy')\n",
    "plt.legend()\n",
    " \n",
    "plt.figure()\n",
    " \n",
    "plt.plot(epochs, loss, 'b', label='Training loss')\n",
    "plt.plot(epochs, val_loss, 'r', label='Validation loss')\n",
    "plt.title('Training and validation loss')\n",
    "plt.legend()\n",
    " \n",
    "plt.show()"
   ]
  },
  {
   "cell_type": "code",
   "execution_count": 92,
   "metadata": {},
   "outputs": [],
   "source": [
    "SENTIMENT_THRESHOLDS = (0.4, 0.7)\n"
   ]
  },
  {
   "cell_type": "code",
   "execution_count": 91,
   "metadata": {},
   "outputs": [],
   "source": [
    "def decode_sentiment(score, include_neutral=True):\n",
    "    if include_neutral:        \n",
    "        label = 'NEUTRAL'\n",
    "        if score <= SENTIMENT_THRESHOLDS[0]:\n",
    "            label = 'NEGATIVE'\n",
    "        elif score >= SENTIMENT_THRESHOLDS[1]:\n",
    "            label = 'POSITIVE'\n",
    "\n",
    "        return label\n",
    "    else:\n",
    "        return 'NEGATIVE' if score < 0.5 else 'POSITIVE'"
   ]
  },
  {
   "cell_type": "code",
   "execution_count": 85,
   "metadata": {},
   "outputs": [],
   "source": [
    "def predict(text, include_neutral=True):\n",
    "    start_at = time.time()\n",
    "    # Tokenize text\n",
    "    x_test = pad_sequences(tokenizer.texts_to_sequences([text]), maxlen=300)\n",
    "    # Predict\n",
    "    score = model.predict([x_test])[0]\n",
    "    # Decode sentiment\n",
    "    label = decode_sentiment(score, include_neutral=include_neutral)\n",
    "\n",
    "    return {\"label\": label, \"score\": float(score),\n",
    "       \"elapsed_time\": time.time()-start_at}  "
   ]
  },
  {
   "cell_type": "code",
   "execution_count": 147,
   "metadata": {},
   "outputs": [
    {
     "data": {
      "text/plain": [
       "{'label': 'POSITIVE',\n",
       " 'score': 0.7038811445236206,\n",
       " 'elapsed_time': 0.05259275436401367}"
      ]
     },
     "execution_count": 147,
     "metadata": {},
     "output_type": "execute_result"
    }
   ],
   "source": [
    "predict('halo')"
   ]
  },
  {
   "cell_type": "code",
   "execution_count": 87,
   "metadata": {},
   "outputs": [
    {
     "data": {
      "text/plain": [
       "{'label': 'POSITIVE',\n",
       " 'score': 0.9751156568527222,\n",
       " 'elapsed_time': 0.049160003662109375}"
      ]
     },
     "execution_count": 87,
     "metadata": {},
     "output_type": "execute_result"
    }
   ],
   "source": [
    "predict('Halo Infinite looks awesome')"
   ]
  },
  {
   "cell_type": "code",
   "execution_count": 103,
   "metadata": {},
   "outputs": [
    {
     "data": {
      "text/plain": [
       "{'label': 'NEGATIVE',\n",
       " 'score': 0.02658303827047348,\n",
       " 'elapsed_time': 0.055711984634399414}"
      ]
     },
     "execution_count": 103,
     "metadata": {},
     "output_type": "execute_result"
    }
   ],
   "source": [
    "predict('Halo 5 was the worst iteration of the franchise')"
   ]
  },
  {
   "cell_type": "code",
   "execution_count": 155,
   "metadata": {},
   "outputs": [
    {
     "data": {
      "text/plain": [
       "{'label': 'NEGATIVE',\n",
       " 'score': 0.14230535924434662,\n",
       " 'elapsed_time': 0.051629066467285156}"
      ]
     },
     "execution_count": 155,
     "metadata": {},
     "output_type": "execute_result"
    }
   ],
   "source": [
    "predict('hell fuck no')"
   ]
  },
  {
   "cell_type": "code",
   "execution_count": 117,
   "metadata": {},
   "outputs": [
    {
     "data": {
      "text/plain": [
       "{'label': 'NEUTRAL',\n",
       " 'score': 0.6382704973220825,\n",
       " 'elapsed_time': 0.055806875228881836}"
      ]
     },
     "execution_count": 117,
     "metadata": {},
     "output_type": "execute_result"
    }
   ],
   "source": [
    "predict('I am a monument to all your sins')"
   ]
  },
  {
   "cell_type": "code",
   "execution_count": 137,
   "metadata": {},
   "outputs": [
    {
     "data": {
      "text/plain": [
       "{'label': 'POSITIVE',\n",
       " 'score': 0.8019468784332275,\n",
       " 'elapsed_time': 0.05218791961669922}"
      ]
     },
     "execution_count": 137,
     "metadata": {},
     "output_type": "execute_result"
    }
   ],
   "source": [
    "predict('set a fire in your heart spartan')"
   ]
  },
  {
   "cell_type": "code",
   "execution_count": null,
   "metadata": {},
   "outputs": [],
   "source": []
  }
 ],
 "metadata": {
  "kernelspec": {
   "display_name": "Python 3",
   "language": "python",
   "name": "python3"
  },
  "language_info": {
   "codemirror_mode": {
    "name": "ipython",
    "version": 3
   },
   "file_extension": ".py",
   "mimetype": "text/x-python",
   "name": "python",
   "nbconvert_exporter": "python",
   "pygments_lexer": "ipython3",
   "version": "3.7.4"
  }
 },
 "nbformat": 4,
 "nbformat_minor": 2
}
